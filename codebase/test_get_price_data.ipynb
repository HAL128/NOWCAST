{
 "cells": [
  {
   "cell_type": "code",
   "execution_count": 1,
   "metadata": {},
   "outputs": [],
   "source": [
    "from helpers import *"
   ]
  },
  {
   "cell_type": "code",
   "execution_count": 2,
   "metadata": {},
   "outputs": [
    {
     "data": {
      "text/html": [
       "<div>\n",
       "<style scoped>\n",
       "    .dataframe tbody tr th:only-of-type {\n",
       "        vertical-align: middle;\n",
       "    }\n",
       "\n",
       "    .dataframe tbody tr th {\n",
       "        vertical-align: top;\n",
       "    }\n",
       "\n",
       "    .dataframe thead th {\n",
       "        text-align: right;\n",
       "    }\n",
       "</style>\n",
       "<table border=\"1\" class=\"dataframe\">\n",
       "  <thead>\n",
       "    <tr style=\"text-align: right;\">\n",
       "      <th></th>\n",
       "      <th>DATE</th>\n",
       "      <th>COUNT</th>\n",
       "      <th>TOTAL_SALES</th>\n",
       "      <th>TICKER_CODE</th>\n",
       "    </tr>\n",
       "  </thead>\n",
       "  <tbody>\n",
       "    <tr>\n",
       "      <th>0</th>\n",
       "      <td>2013-01-01</td>\n",
       "      <td>20</td>\n",
       "      <td>73761</td>\n",
       "      <td>2138</td>\n",
       "    </tr>\n",
       "    <tr>\n",
       "      <th>1</th>\n",
       "      <td>2013-01-01</td>\n",
       "      <td>12</td>\n",
       "      <td>85905</td>\n",
       "      <td>2157</td>\n",
       "    </tr>\n",
       "    <tr>\n",
       "      <th>2</th>\n",
       "      <td>2013-01-01</td>\n",
       "      <td>2</td>\n",
       "      <td>4070</td>\n",
       "      <td>2193</td>\n",
       "    </tr>\n",
       "    <tr>\n",
       "      <th>3</th>\n",
       "      <td>2013-01-01</td>\n",
       "      <td>35</td>\n",
       "      <td>120393</td>\n",
       "      <td>2211</td>\n",
       "    </tr>\n",
       "    <tr>\n",
       "      <th>4</th>\n",
       "      <td>2013-01-01</td>\n",
       "      <td>2</td>\n",
       "      <td>6000</td>\n",
       "      <td>2267</td>\n",
       "    </tr>\n",
       "    <tr>\n",
       "      <th>...</th>\n",
       "      <td>...</td>\n",
       "      <td>...</td>\n",
       "      <td>...</td>\n",
       "      <td>...</td>\n",
       "    </tr>\n",
       "    <tr>\n",
       "      <th>1107795</th>\n",
       "      <td>2026-03-31</td>\n",
       "      <td>3364</td>\n",
       "      <td>11895353</td>\n",
       "      <td>4478</td>\n",
       "    </tr>\n",
       "    <tr>\n",
       "      <th>1107796</th>\n",
       "      <td>2026-04-30</td>\n",
       "      <td>1724</td>\n",
       "      <td>5072281</td>\n",
       "      <td>3994</td>\n",
       "    </tr>\n",
       "    <tr>\n",
       "      <th>1107797</th>\n",
       "      <td>2026-04-30</td>\n",
       "      <td>1695</td>\n",
       "      <td>5980035</td>\n",
       "      <td>4478</td>\n",
       "    </tr>\n",
       "    <tr>\n",
       "      <th>1107798</th>\n",
       "      <td>2026-05-31</td>\n",
       "      <td>39</td>\n",
       "      <td>149150</td>\n",
       "      <td>3994</td>\n",
       "    </tr>\n",
       "    <tr>\n",
       "      <th>1107799</th>\n",
       "      <td>2026-05-31</td>\n",
       "      <td>224</td>\n",
       "      <td>712835</td>\n",
       "      <td>4478</td>\n",
       "    </tr>\n",
       "  </tbody>\n",
       "</table>\n",
       "<p>1107800 rows × 4 columns</p>\n",
       "</div>"
      ],
      "text/plain": [
       "              DATE  COUNT  TOTAL_SALES TICKER_CODE\n",
       "0       2013-01-01     20        73761        2138\n",
       "1       2013-01-01     12        85905        2157\n",
       "2       2013-01-01      2         4070        2193\n",
       "3       2013-01-01     35       120393        2211\n",
       "4       2013-01-01      2         6000        2267\n",
       "...            ...    ...          ...         ...\n",
       "1107795 2026-03-31   3364     11895353        4478\n",
       "1107796 2026-04-30   1724      5072281        3994\n",
       "1107797 2026-04-30   1695      5980035        4478\n",
       "1107798 2026-05-31     39       149150        3994\n",
       "1107799 2026-05-31    224       712835        4478\n",
       "\n",
       "[1107800 rows x 4 columns]"
      ]
     },
     "execution_count": 2,
     "metadata": {},
     "output_type": "execute_result"
    }
   ],
   "source": [
    "df = pd.read_csv('../../DATAHUB/cca_06262025.csv')\n",
    "df['DATE'] = pd.to_datetime(df['DATE'])\n",
    "\n",
    "df"
   ]
  },
  {
   "cell_type": "code",
   "execution_count": 3,
   "metadata": {},
   "outputs": [
    {
     "name": "stdout",
     "output_type": "stream",
     "text": [
      "original data: 1107800\n",
      "filtered data: 1012775\n"
     ]
    },
    {
     "data": {
      "text/html": [
       "<div>\n",
       "<style scoped>\n",
       "    .dataframe tbody tr th:only-of-type {\n",
       "        vertical-align: middle;\n",
       "    }\n",
       "\n",
       "    .dataframe tbody tr th {\n",
       "        vertical-align: top;\n",
       "    }\n",
       "\n",
       "    .dataframe thead th {\n",
       "        text-align: right;\n",
       "    }\n",
       "</style>\n",
       "<table border=\"1\" class=\"dataframe\">\n",
       "  <thead>\n",
       "    <tr style=\"text-align: right;\">\n",
       "      <th></th>\n",
       "      <th>DATE</th>\n",
       "      <th>COUNT</th>\n",
       "      <th>TOTAL_SALES</th>\n",
       "      <th>TICKER_CODE</th>\n",
       "    </tr>\n",
       "  </thead>\n",
       "  <tbody>\n",
       "    <tr>\n",
       "      <th>0</th>\n",
       "      <td>2013-01-01</td>\n",
       "      <td>20</td>\n",
       "      <td>73761</td>\n",
       "      <td>2138</td>\n",
       "    </tr>\n",
       "    <tr>\n",
       "      <th>1</th>\n",
       "      <td>2013-01-01</td>\n",
       "      <td>12</td>\n",
       "      <td>85905</td>\n",
       "      <td>2157</td>\n",
       "    </tr>\n",
       "    <tr>\n",
       "      <th>2</th>\n",
       "      <td>2013-01-01</td>\n",
       "      <td>2</td>\n",
       "      <td>4070</td>\n",
       "      <td>2193</td>\n",
       "    </tr>\n",
       "    <tr>\n",
       "      <th>3</th>\n",
       "      <td>2013-01-01</td>\n",
       "      <td>35</td>\n",
       "      <td>120393</td>\n",
       "      <td>2211</td>\n",
       "    </tr>\n",
       "    <tr>\n",
       "      <th>4</th>\n",
       "      <td>2013-01-01</td>\n",
       "      <td>2</td>\n",
       "      <td>6000</td>\n",
       "      <td>2267</td>\n",
       "    </tr>\n",
       "    <tr>\n",
       "      <th>...</th>\n",
       "      <td>...</td>\n",
       "      <td>...</td>\n",
       "      <td>...</td>\n",
       "      <td>...</td>\n",
       "    </tr>\n",
       "    <tr>\n",
       "      <th>1107771</th>\n",
       "      <td>2025-06-08</td>\n",
       "      <td>15</td>\n",
       "      <td>79110</td>\n",
       "      <td>9842</td>\n",
       "    </tr>\n",
       "    <tr>\n",
       "      <th>1107772</th>\n",
       "      <td>2025-06-08</td>\n",
       "      <td>738</td>\n",
       "      <td>4968883</td>\n",
       "      <td>9843</td>\n",
       "    </tr>\n",
       "    <tr>\n",
       "      <th>1107773</th>\n",
       "      <td>2025-06-08</td>\n",
       "      <td>4</td>\n",
       "      <td>31999</td>\n",
       "      <td>9974</td>\n",
       "    </tr>\n",
       "    <tr>\n",
       "      <th>1107776</th>\n",
       "      <td>2025-06-30</td>\n",
       "      <td>17057</td>\n",
       "      <td>51054219</td>\n",
       "      <td>3994</td>\n",
       "    </tr>\n",
       "    <tr>\n",
       "      <th>1107777</th>\n",
       "      <td>2025-06-30</td>\n",
       "      <td>17507</td>\n",
       "      <td>61329333</td>\n",
       "      <td>4478</td>\n",
       "    </tr>\n",
       "  </tbody>\n",
       "</table>\n",
       "<p>1012775 rows × 4 columns</p>\n",
       "</div>"
      ],
      "text/plain": [
       "              DATE  COUNT  TOTAL_SALES TICKER_CODE\n",
       "0       2013-01-01     20        73761        2138\n",
       "1       2013-01-01     12        85905        2157\n",
       "2       2013-01-01      2         4070        2193\n",
       "3       2013-01-01     35       120393        2211\n",
       "4       2013-01-01      2         6000        2267\n",
       "...            ...    ...          ...         ...\n",
       "1107771 2025-06-08     15        79110        9842\n",
       "1107772 2025-06-08    738      4968883        9843\n",
       "1107773 2025-06-08      4        31999        9974\n",
       "1107776 2025-06-30  17057     51054219        3994\n",
       "1107777 2025-06-30  17507     61329333        4478\n",
       "\n",
       "[1012775 rows x 4 columns]"
      ]
     },
     "execution_count": 3,
     "metadata": {},
     "output_type": "execute_result"
    }
   ],
   "source": [
    "# データ読み込みとフィルタリング\n",
    "df_filtered = filter_data_cca(df)\n",
    "\n",
    "df_filtered"
   ]
  },
  {
   "cell_type": "code",
   "execution_count": 4,
   "metadata": {},
   "outputs": [
    {
     "name": "stdout",
     "output_type": "stream",
     "text": [
      "Successfully fetched data for 2138\n",
      "Successfully fetched data for 2157\n",
      "Successfully fetched data for 2193\n",
      "Successfully fetched data for 2211\n",
      "Successfully fetched data for 2267\n",
      "Successfully fetched data for 2331\n",
      "Successfully fetched data for 2371\n",
      "Successfully fetched data for 2432\n",
      "Successfully fetched data for 2484\n"
     ]
    },
    {
     "name": "stderr",
     "output_type": "stream",
     "text": [
      "$2651.T: possibly delisted; no timezone found\n"
     ]
    },
    {
     "name": "stdout",
     "output_type": "stream",
     "text": [
      "No data available for 2651\n",
      "Successfully fetched data for 2659\n",
      "Successfully fetched data for 2670\n",
      "Successfully fetched data for 2678\n",
      "Successfully fetched data for 2681\n",
      "Successfully fetched data for 2685\n",
      "Successfully fetched data for 2726\n",
      "Successfully fetched data for 2730\n",
      "Successfully fetched data for 2742\n",
      "Successfully fetched data for 2752\n",
      "Successfully fetched data for 2780\n",
      "Successfully fetched data for 2790\n",
      "Successfully fetched data for 2792\n",
      "Successfully fetched data for 2798\n",
      "Successfully fetched data for 2910\n"
     ]
    },
    {
     "name": "stderr",
     "output_type": "stream",
     "text": [
      "HTTP Error 404: \n",
      "$2928.T: possibly delisted; no timezone found\n"
     ]
    },
    {
     "name": "stdout",
     "output_type": "stream",
     "text": [
      "No data available for 2928\n",
      "Successfully fetched data for 3028\n",
      "Successfully fetched data for 3046\n",
      "Successfully fetched data for 3048\n",
      "Successfully fetched data for 3053\n",
      "Successfully fetched data for 3087\n",
      "Successfully fetched data for 3088\n",
      "Successfully fetched data for 3091\n",
      "Successfully fetched data for 3092\n",
      "Successfully fetched data for 3097\n"
     ]
    },
    {
     "name": "stderr",
     "output_type": "stream",
     "text": [
      "$3098.T: possibly delisted; no timezone found\n"
     ]
    },
    {
     "name": "stdout",
     "output_type": "stream",
     "text": [
      "No data available for 3098\n",
      "Successfully fetched data for 3099\n",
      "Successfully fetched data for 3148\n",
      "Successfully fetched data for 3180\n",
      "Successfully fetched data for 3191\n",
      "Successfully fetched data for 3197\n",
      "Successfully fetched data for 3222\n",
      "Successfully fetched data for 3333\n",
      "Successfully fetched data for 3382\n",
      "Successfully fetched data for 3387\n",
      "Successfully fetched data for 3391\n",
      "Successfully fetched data for 3395\n",
      "Successfully fetched data for 3397\n",
      "Successfully fetched data for 3539\n",
      "Successfully fetched data for 3558\n",
      "Successfully fetched data for 3563\n",
      "Successfully fetched data for 3608\n",
      "Successfully fetched data for 3632\n",
      "Successfully fetched data for 3635\n",
      "Successfully fetched data for 3659\n",
      "Successfully fetched data for 3660\n",
      "Successfully fetched data for 3665\n",
      "Successfully fetched data for 3765\n",
      "Successfully fetched data for 4176\n",
      "Successfully fetched data for 4194\n",
      "Successfully fetched data for 4337\n",
      "Successfully fetched data for 4344\n"
     ]
    },
    {
     "name": "stderr",
     "output_type": "stream",
     "text": [
      "$4348.T: possibly delisted; no timezone found\n"
     ]
    },
    {
     "name": "stdout",
     "output_type": "stream",
     "text": [
      "No data available for 4348\n",
      "Successfully fetched data for 4448\n",
      "Successfully fetched data for 4661\n",
      "Successfully fetched data for 4680\n",
      "Successfully fetched data for 4686\n",
      "Successfully fetched data for 4689\n",
      "Successfully fetched data for 4704\n",
      "Successfully fetched data for 4751\n",
      "Successfully fetched data for 4755\n",
      "Successfully fetched data for 4839\n",
      "Successfully fetched data for 4911\n"
     ]
    },
    {
     "name": "stderr",
     "output_type": "stream",
     "text": [
      "$4921.T: possibly delisted; no timezone found\n"
     ]
    },
    {
     "name": "stdout",
     "output_type": "stream",
     "text": [
      "No data available for 4921\n",
      "Successfully fetched data for 4922\n",
      "Successfully fetched data for 4927\n",
      "Successfully fetched data for 5261\n",
      "Successfully fetched data for 6027\n",
      "Successfully fetched data for 6071\n",
      "Successfully fetched data for 6082\n",
      "Successfully fetched data for 6098\n",
      "Successfully fetched data for 7157\n",
      "Successfully fetched data for 7419\n",
      "Successfully fetched data for 7453\n",
      "Successfully fetched data for 7513\n",
      "Successfully fetched data for 7516\n",
      "Successfully fetched data for 7532\n",
      "Successfully fetched data for 7545\n",
      "Successfully fetched data for 7550\n",
      "Successfully fetched data for 7581\n",
      "Successfully fetched data for 7606\n",
      "Successfully fetched data for 7616\n"
     ]
    },
    {
     "name": "stderr",
     "output_type": "stream",
     "text": [
      "$7618.T: possibly delisted; no timezone found\n"
     ]
    },
    {
     "name": "stdout",
     "output_type": "stream",
     "text": [
      "No data available for 7618\n",
      "Successfully fetched data for 7630\n",
      "Successfully fetched data for 7649\n",
      "Successfully fetched data for 7780\n",
      "Successfully fetched data for 7809\n"
     ]
    },
    {
     "name": "stderr",
     "output_type": "stream",
     "text": [
      "$7816.T: possibly delisted; no timezone found\n"
     ]
    },
    {
     "name": "stdout",
     "output_type": "stream",
     "text": [
      "No data available for 7816\n",
      "Successfully fetched data for 7844\n",
      "Successfully fetched data for 7860\n",
      "Successfully fetched data for 7911\n",
      "Successfully fetched data for 7936\n",
      "Successfully fetched data for 7937\n",
      "Successfully fetched data for 7951\n",
      "Successfully fetched data for 7974\n",
      "Successfully fetched data for 8008\n",
      "Successfully fetched data for 8016\n"
     ]
    },
    {
     "name": "stderr",
     "output_type": "stream",
     "text": [
      "$8028.T: possibly delisted; no timezone found\n"
     ]
    },
    {
     "name": "stdout",
     "output_type": "stream",
     "text": [
      "No data available for 8028\n",
      "Successfully fetched data for 8111\n",
      "Successfully fetched data for 8160\n",
      "Successfully fetched data for 8163\n",
      "Successfully fetched data for 8173\n",
      "Successfully fetched data for 8179\n"
     ]
    },
    {
     "name": "stderr",
     "output_type": "stream",
     "text": [
      "$8182.T: possibly delisted; no timezone found\n"
     ]
    },
    {
     "name": "stdout",
     "output_type": "stream",
     "text": [
      "No data available for 8182\n"
     ]
    },
    {
     "name": "stderr",
     "output_type": "stream",
     "text": [
      "$8184.T: possibly delisted; no timezone found\n"
     ]
    },
    {
     "name": "stdout",
     "output_type": "stream",
     "text": [
      "No data available for 8184\n",
      "Successfully fetched data for 8185\n",
      "Successfully fetched data for 8200\n",
      "Successfully fetched data for 8214\n",
      "Successfully fetched data for 8218\n",
      "Successfully fetched data for 8219\n",
      "Successfully fetched data for 8227\n",
      "Successfully fetched data for 8242\n",
      "Successfully fetched data for 8244\n",
      "Successfully fetched data for 8252\n",
      "Successfully fetched data for 8255\n",
      "Successfully fetched data for 8267\n",
      "Successfully fetched data for 8273\n",
      "Successfully fetched data for 8278\n",
      "Successfully fetched data for 8281\n",
      "Successfully fetched data for 8282\n",
      "Successfully fetched data for 8715\n",
      "Successfully fetched data for 9007\n",
      "Successfully fetched data for 9008\n",
      "Successfully fetched data for 9009\n",
      "Successfully fetched data for 9020\n",
      "Successfully fetched data for 9021\n",
      "Successfully fetched data for 9022\n",
      "Successfully fetched data for 9042\n",
      "Successfully fetched data for 9201\n",
      "Successfully fetched data for 9202\n",
      "Successfully fetched data for 9206\n",
      "Successfully fetched data for 9278\n",
      "Successfully fetched data for 9412\n",
      "Successfully fetched data for 9418\n",
      "Successfully fetched data for 9424\n",
      "Successfully fetched data for 9432\n",
      "Successfully fetched data for 9433\n",
      "Successfully fetched data for 9438\n",
      "Successfully fetched data for 9468\n",
      "Successfully fetched data for 9601\n",
      "Successfully fetched data for 9603\n",
      "Successfully fetched data for 9605\n",
      "Successfully fetched data for 9616\n",
      "Successfully fetched data for 9627\n",
      "Successfully fetched data for 9684\n",
      "Successfully fetched data for 9697\n",
      "Successfully fetched data for 9708\n",
      "Successfully fetched data for 9722\n",
      "Successfully fetched data for 9733\n",
      "Successfully fetched data for 9766\n",
      "Successfully fetched data for 9831\n",
      "Successfully fetched data for 9832\n",
      "Successfully fetched data for 9842\n",
      "Successfully fetched data for 9843\n",
      "Successfully fetched data for 9861\n",
      "Successfully fetched data for 9882\n",
      "Successfully fetched data for 9900\n",
      "Successfully fetched data for 9948\n",
      "Successfully fetched data for 9956\n",
      "Successfully fetched data for 9974\n",
      "Successfully fetched data for 9983\n",
      "Successfully fetched data for 9984\n",
      "Successfully fetched data for 9989\n",
      "Successfully fetched data for 9997\n",
      "Successfully fetched data for 2764\n",
      "Successfully fetched data for 2782\n",
      "Successfully fetched data for 3093\n",
      "Successfully fetched data for 3179\n",
      "Successfully fetched data for 3549\n",
      "Successfully fetched data for 6036\n",
      "Successfully fetched data for 7564\n",
      "Successfully fetched data for 7806\n",
      "Successfully fetched data for 7840\n",
      "Successfully fetched data for 8022\n",
      "Successfully fetched data for 8153\n",
      "Successfully fetched data for 8167\n",
      "Successfully fetched data for 8194\n",
      "Successfully fetched data for 8237\n",
      "Successfully fetched data for 8279\n",
      "Successfully fetched data for 9735\n"
     ]
    },
    {
     "name": "stderr",
     "output_type": "stream",
     "text": [
      "$9783.T: possibly delisted; no timezone found\n"
     ]
    },
    {
     "name": "stdout",
     "output_type": "stream",
     "text": [
      "No data available for 9783\n"
     ]
    },
    {
     "name": "stderr",
     "output_type": "stream",
     "text": [
      "$9792.T: possibly delisted; no timezone found\n"
     ]
    },
    {
     "name": "stdout",
     "output_type": "stream",
     "text": [
      "No data available for 9792\n"
     ]
    },
    {
     "name": "stderr",
     "output_type": "stream",
     "text": [
      "$9873.T: possibly delisted; no timezone found\n"
     ]
    },
    {
     "name": "stdout",
     "output_type": "stream",
     "text": [
      "No data available for 9873\n"
     ]
    },
    {
     "name": "stderr",
     "output_type": "stream",
     "text": [
      "$9919.T: possibly delisted; no timezone found\n"
     ]
    },
    {
     "name": "stdout",
     "output_type": "stream",
     "text": [
      "No data available for 9919\n",
      "Successfully fetched data for 2695\n",
      "Successfully fetched data for 2931\n",
      "Successfully fetched data for 3038\n",
      "Successfully fetched data for 3182\n",
      "Successfully fetched data for 3543\n",
      "Successfully fetched data for 3561\n",
      "Successfully fetched data for 4477\n",
      "Successfully fetched data for 2929\n",
      "Successfully fetched data for 2930\n",
      "Successfully fetched data for 3064\n",
      "Successfully fetched data for 3341\n",
      "Successfully fetched data for 3359\n",
      "Successfully fetched data for 3926\n",
      "Successfully fetched data for 4934\n",
      "Successfully fetched data for 7421\n",
      "Successfully fetched data for 8174\n",
      "Successfully fetched data for 9039\n",
      "Successfully fetched data for 3542\n"
     ]
    },
    {
     "name": "stderr",
     "output_type": "stream",
     "text": [
      "$8114.T: possibly delisted; no timezone found\n"
     ]
    },
    {
     "name": "stdout",
     "output_type": "stream",
     "text": [
      "No data available for 8114\n",
      "Successfully fetched data for 4384\n",
      "Successfully fetched data for 6724\n",
      "Successfully fetched data for 6630\n",
      "Successfully fetched data for 6952\n",
      "Successfully fetched data for 7110\n",
      "Successfully fetched data for 3050\n"
     ]
    },
    {
     "name": "stderr",
     "output_type": "stream",
     "text": [
      "$9945.T: possibly delisted; no timezone found\n"
     ]
    },
    {
     "name": "stdout",
     "output_type": "stream",
     "text": [
      "No data available for 9945\n"
     ]
    },
    {
     "name": "stderr",
     "output_type": "stream",
     "text": [
      "$7323.T: possibly delisted; no timezone found\n"
     ]
    },
    {
     "name": "stdout",
     "output_type": "stream",
     "text": [
      "No data available for 7323\n",
      "Successfully fetched data for 7082\n",
      "Successfully fetched data for 9416\n",
      "Successfully fetched data for 6030\n",
      "Successfully fetched data for 3994\n"
     ]
    },
    {
     "name": "stderr",
     "output_type": "stream",
     "text": [
      "$8168.T: possibly delisted; no timezone found\n"
     ]
    },
    {
     "name": "stdout",
     "output_type": "stream",
     "text": [
      "No data available for 8168\n",
      "Successfully fetched data for 4479\n",
      "Successfully fetched data for 4385\n",
      "Successfully fetched data for 6191\n",
      "Successfully fetched data for 9962\n",
      "Successfully fetched data for 4478\n",
      "Successfully fetched data for 6096\n",
      "Successfully fetched data for 5138\n"
     ]
    },
    {
     "name": "stderr",
     "output_type": "stream",
     "text": [
      "$3938.T: possibly delisted; no timezone found\n"
     ]
    },
    {
     "name": "stdout",
     "output_type": "stream",
     "text": [
      "No data available for 3938\n",
      "Successfully fetched data for 3962\n",
      "Successfully fetched data for 3349\n",
      "Successfully fetched data for 7353\n",
      "Successfully fetched data for 9338\n",
      "Successfully fetched data for 5032\n"
     ]
    }
   ],
   "source": [
    "price_data, success_rate = get_stock_price_data_from_yfinance(df_filtered)"
   ]
  },
  {
   "cell_type": "code",
   "execution_count": 17,
   "metadata": {},
   "outputs": [],
   "source": [
    "price_data.to_csv('../data/price_data.csv')"
   ]
  },
  {
   "cell_type": "code",
   "execution_count": 6,
   "metadata": {},
   "outputs": [
    {
     "data": {
      "text/plain": [
       "0.9201680672268907"
      ]
     },
     "execution_count": 6,
     "metadata": {},
     "output_type": "execute_result"
    }
   ],
   "source": [
    "success_rate"
   ]
  },
  {
   "cell_type": "code",
   "execution_count": 7,
   "metadata": {},
   "outputs": [
    {
     "name": "stdout",
     "output_type": "stream",
     "text": [
      "original data: 1012775\n",
      "monthly data: 34937\n"
     ]
    },
    {
     "data": {
      "text/html": [
       "<div>\n",
       "<style scoped>\n",
       "    .dataframe tbody tr th:only-of-type {\n",
       "        vertical-align: middle;\n",
       "    }\n",
       "\n",
       "    .dataframe tbody tr th {\n",
       "        vertical-align: top;\n",
       "    }\n",
       "\n",
       "    .dataframe thead th {\n",
       "        text-align: right;\n",
       "    }\n",
       "</style>\n",
       "<table border=\"1\" class=\"dataframe\">\n",
       "  <thead>\n",
       "    <tr style=\"text-align: right;\">\n",
       "      <th></th>\n",
       "      <th>MONTH</th>\n",
       "      <th>TICKER_CODE</th>\n",
       "      <th>TOTAL_SALES</th>\n",
       "    </tr>\n",
       "  </thead>\n",
       "  <tbody>\n",
       "    <tr>\n",
       "      <th>0</th>\n",
       "      <td>2013-01</td>\n",
       "      <td>2138</td>\n",
       "      <td>985151</td>\n",
       "    </tr>\n",
       "    <tr>\n",
       "      <th>1</th>\n",
       "      <td>2013-01</td>\n",
       "      <td>2157</td>\n",
       "      <td>1377478</td>\n",
       "    </tr>\n",
       "    <tr>\n",
       "      <th>2</th>\n",
       "      <td>2013-01</td>\n",
       "      <td>2193</td>\n",
       "      <td>2924974</td>\n",
       "    </tr>\n",
       "    <tr>\n",
       "      <th>3</th>\n",
       "      <td>2013-01</td>\n",
       "      <td>2211</td>\n",
       "      <td>2521892</td>\n",
       "    </tr>\n",
       "    <tr>\n",
       "      <th>4</th>\n",
       "      <td>2013-01</td>\n",
       "      <td>2267</td>\n",
       "      <td>238000</td>\n",
       "    </tr>\n",
       "    <tr>\n",
       "      <th>...</th>\n",
       "      <td>...</td>\n",
       "      <td>...</td>\n",
       "      <td>...</td>\n",
       "    </tr>\n",
       "    <tr>\n",
       "      <th>34932</th>\n",
       "      <td>2025-05</td>\n",
       "      <td>9974</td>\n",
       "      <td>327291989</td>\n",
       "    </tr>\n",
       "    <tr>\n",
       "      <th>34933</th>\n",
       "      <td>2025-05</td>\n",
       "      <td>9983</td>\n",
       "      <td>1720150602</td>\n",
       "    </tr>\n",
       "    <tr>\n",
       "      <th>34934</th>\n",
       "      <td>2025-05</td>\n",
       "      <td>9984</td>\n",
       "      <td>4053911322</td>\n",
       "    </tr>\n",
       "    <tr>\n",
       "      <th>34935</th>\n",
       "      <td>2025-05</td>\n",
       "      <td>9989</td>\n",
       "      <td>403450209</td>\n",
       "    </tr>\n",
       "    <tr>\n",
       "      <th>34936</th>\n",
       "      <td>2025-05</td>\n",
       "      <td>9997</td>\n",
       "      <td>58709829</td>\n",
       "    </tr>\n",
       "  </tbody>\n",
       "</table>\n",
       "<p>34937 rows × 3 columns</p>\n",
       "</div>"
      ],
      "text/plain": [
       "         MONTH TICKER_CODE  TOTAL_SALES\n",
       "0      2013-01        2138       985151\n",
       "1      2013-01        2157      1377478\n",
       "2      2013-01        2193      2924974\n",
       "3      2013-01        2211      2521892\n",
       "4      2013-01        2267       238000\n",
       "...        ...         ...          ...\n",
       "34932  2025-05        9974    327291989\n",
       "34933  2025-05        9983   1720150602\n",
       "34934  2025-05        9984   4053911322\n",
       "34935  2025-05        9989    403450209\n",
       "34936  2025-05        9997     58709829\n",
       "\n",
       "[34937 rows x 3 columns]"
      ]
     },
     "execution_count": 7,
     "metadata": {},
     "output_type": "execute_result"
    }
   ],
   "source": [
    "df_monthly = daily_to_monthly(df_filtered, 'TOTAL_SALES')\n",
    "df_monthly"
   ]
  },
  {
   "cell_type": "code",
   "execution_count": 8,
   "metadata": {},
   "outputs": [
    {
     "name": "stdout",
     "output_type": "stream",
     "text": [
      "original data: 34937\n",
      "yoy data: 32077\n"
     ]
    },
    {
     "data": {
      "text/html": [
       "<div>\n",
       "<style scoped>\n",
       "    .dataframe tbody tr th:only-of-type {\n",
       "        vertical-align: middle;\n",
       "    }\n",
       "\n",
       "    .dataframe tbody tr th {\n",
       "        vertical-align: top;\n",
       "    }\n",
       "\n",
       "    .dataframe thead th {\n",
       "        text-align: right;\n",
       "    }\n",
       "</style>\n",
       "<table border=\"1\" class=\"dataframe\">\n",
       "  <thead>\n",
       "    <tr style=\"text-align: right;\">\n",
       "      <th></th>\n",
       "      <th>MONTH</th>\n",
       "      <th>TICKER_CODE</th>\n",
       "      <th>TOTAL_SALES</th>\n",
       "      <th>YOY</th>\n",
       "    </tr>\n",
       "  </thead>\n",
       "  <tbody>\n",
       "    <tr>\n",
       "      <th>2677</th>\n",
       "      <td>2014-01</td>\n",
       "      <td>2138</td>\n",
       "      <td>3470893</td>\n",
       "      <td>3.523209</td>\n",
       "    </tr>\n",
       "    <tr>\n",
       "      <th>2678</th>\n",
       "      <td>2014-01</td>\n",
       "      <td>2157</td>\n",
       "      <td>2673437</td>\n",
       "      <td>1.940820</td>\n",
       "    </tr>\n",
       "    <tr>\n",
       "      <th>2679</th>\n",
       "      <td>2014-01</td>\n",
       "      <td>2193</td>\n",
       "      <td>4141117</td>\n",
       "      <td>1.415779</td>\n",
       "    </tr>\n",
       "    <tr>\n",
       "      <th>2680</th>\n",
       "      <td>2014-01</td>\n",
       "      <td>2211</td>\n",
       "      <td>2872552</td>\n",
       "      <td>1.139046</td>\n",
       "    </tr>\n",
       "    <tr>\n",
       "      <th>2681</th>\n",
       "      <td>2014-01</td>\n",
       "      <td>2267</td>\n",
       "      <td>240100</td>\n",
       "      <td>1.008824</td>\n",
       "    </tr>\n",
       "    <tr>\n",
       "      <th>...</th>\n",
       "      <td>...</td>\n",
       "      <td>...</td>\n",
       "      <td>...</td>\n",
       "      <td>...</td>\n",
       "    </tr>\n",
       "    <tr>\n",
       "      <th>34932</th>\n",
       "      <td>2025-05</td>\n",
       "      <td>9974</td>\n",
       "      <td>327291989</td>\n",
       "      <td>1.143396</td>\n",
       "    </tr>\n",
       "    <tr>\n",
       "      <th>34933</th>\n",
       "      <td>2025-05</td>\n",
       "      <td>9983</td>\n",
       "      <td>1720150602</td>\n",
       "      <td>1.116378</td>\n",
       "    </tr>\n",
       "    <tr>\n",
       "      <th>34934</th>\n",
       "      <td>2025-05</td>\n",
       "      <td>9984</td>\n",
       "      <td>4053911322</td>\n",
       "      <td>0.663956</td>\n",
       "    </tr>\n",
       "    <tr>\n",
       "      <th>34935</th>\n",
       "      <td>2025-05</td>\n",
       "      <td>9989</td>\n",
       "      <td>403450209</td>\n",
       "      <td>1.143850</td>\n",
       "    </tr>\n",
       "    <tr>\n",
       "      <th>34936</th>\n",
       "      <td>2025-05</td>\n",
       "      <td>9997</td>\n",
       "      <td>58709829</td>\n",
       "      <td>0.913828</td>\n",
       "    </tr>\n",
       "  </tbody>\n",
       "</table>\n",
       "<p>32077 rows × 4 columns</p>\n",
       "</div>"
      ],
      "text/plain": [
       "         MONTH TICKER_CODE  TOTAL_SALES       YOY\n",
       "2677   2014-01        2138      3470893  3.523209\n",
       "2678   2014-01        2157      2673437  1.940820\n",
       "2679   2014-01        2193      4141117  1.415779\n",
       "2680   2014-01        2211      2872552  1.139046\n",
       "2681   2014-01        2267       240100  1.008824\n",
       "...        ...         ...          ...       ...\n",
       "34932  2025-05        9974    327291989  1.143396\n",
       "34933  2025-05        9983   1720150602  1.116378\n",
       "34934  2025-05        9984   4053911322  0.663956\n",
       "34935  2025-05        9989    403450209  1.143850\n",
       "34936  2025-05        9997     58709829  0.913828\n",
       "\n",
       "[32077 rows x 4 columns]"
      ]
     },
     "execution_count": 8,
     "metadata": {},
     "output_type": "execute_result"
    }
   ],
   "source": [
    "df_yoy = calculate_yoy(df_monthly, 'TOTAL_SALES')\n",
    "df_yoy"
   ]
  },
  {
   "cell_type": "code",
   "execution_count": 9,
   "metadata": {},
   "outputs": [
    {
     "data": {
      "text/html": [
       "<div>\n",
       "<style scoped>\n",
       "    .dataframe tbody tr th:only-of-type {\n",
       "        vertical-align: middle;\n",
       "    }\n",
       "\n",
       "    .dataframe tbody tr th {\n",
       "        vertical-align: top;\n",
       "    }\n",
       "\n",
       "    .dataframe thead th {\n",
       "        text-align: right;\n",
       "    }\n",
       "</style>\n",
       "<table border=\"1\" class=\"dataframe\">\n",
       "  <thead>\n",
       "    <tr style=\"text-align: right;\">\n",
       "      <th></th>\n",
       "      <th>DATE</th>\n",
       "      <th>TICKER_CODE</th>\n",
       "      <th>PRICE</th>\n",
       "      <th>DIVIDENDS</th>\n",
       "      <th>MONTHLY_RETURN</th>\n",
       "    </tr>\n",
       "  </thead>\n",
       "  <tbody>\n",
       "    <tr>\n",
       "      <th>0</th>\n",
       "      <td>2013-01</td>\n",
       "      <td>2138</td>\n",
       "      <td>923.174316</td>\n",
       "      <td>0.0</td>\n",
       "      <td>NaN</td>\n",
       "    </tr>\n",
       "    <tr>\n",
       "      <th>1</th>\n",
       "      <td>2013-02</td>\n",
       "      <td>2138</td>\n",
       "      <td>1558.038574</td>\n",
       "      <td>0.0</td>\n",
       "      <td>0.687697</td>\n",
       "    </tr>\n",
       "    <tr>\n",
       "      <th>2</th>\n",
       "      <td>2013-03</td>\n",
       "      <td>2138</td>\n",
       "      <td>1587.160767</td>\n",
       "      <td>15.0</td>\n",
       "      <td>0.028319</td>\n",
       "    </tr>\n",
       "    <tr>\n",
       "      <th>3</th>\n",
       "      <td>2013-04</td>\n",
       "      <td>2138</td>\n",
       "      <td>1977.104126</td>\n",
       "      <td>0.0</td>\n",
       "      <td>0.245686</td>\n",
       "    </tr>\n",
       "    <tr>\n",
       "      <th>4</th>\n",
       "      <td>2013-05</td>\n",
       "      <td>2138</td>\n",
       "      <td>3473.158691</td>\n",
       "      <td>0.0</td>\n",
       "      <td>0.756690</td>\n",
       "    </tr>\n",
       "    <tr>\n",
       "      <th>...</th>\n",
       "      <td>...</td>\n",
       "      <td>...</td>\n",
       "      <td>...</td>\n",
       "      <td>...</td>\n",
       "      <td>...</td>\n",
       "    </tr>\n",
       "    <tr>\n",
       "      <th>30499</th>\n",
       "      <td>2025-02</td>\n",
       "      <td>5032</td>\n",
       "      <td>2811.156250</td>\n",
       "      <td>0.0</td>\n",
       "      <td>-0.110972</td>\n",
       "    </tr>\n",
       "    <tr>\n",
       "      <th>30500</th>\n",
       "      <td>2025-03</td>\n",
       "      <td>5032</td>\n",
       "      <td>3201.704834</td>\n",
       "      <td>0.0</td>\n",
       "      <td>0.138928</td>\n",
       "    </tr>\n",
       "    <tr>\n",
       "      <th>30501</th>\n",
       "      <td>2025-04</td>\n",
       "      <td>5032</td>\n",
       "      <td>3667.587646</td>\n",
       "      <td>32.5</td>\n",
       "      <td>0.155662</td>\n",
       "    </tr>\n",
       "    <tr>\n",
       "      <th>30502</th>\n",
       "      <td>2025-05</td>\n",
       "      <td>5032</td>\n",
       "      <td>3950.000000</td>\n",
       "      <td>0.0</td>\n",
       "      <td>0.077002</td>\n",
       "    </tr>\n",
       "    <tr>\n",
       "      <th>30503</th>\n",
       "      <td>2025-06</td>\n",
       "      <td>5032</td>\n",
       "      <td>4090.000000</td>\n",
       "      <td>0.0</td>\n",
       "      <td>0.035443</td>\n",
       "    </tr>\n",
       "  </tbody>\n",
       "</table>\n",
       "<p>30504 rows × 5 columns</p>\n",
       "</div>"
      ],
      "text/plain": [
       "          DATE  TICKER_CODE        PRICE  DIVIDENDS  MONTHLY_RETURN\n",
       "0      2013-01         2138   923.174316        0.0             NaN\n",
       "1      2013-02         2138  1558.038574        0.0        0.687697\n",
       "2      2013-03         2138  1587.160767       15.0        0.028319\n",
       "3      2013-04         2138  1977.104126        0.0        0.245686\n",
       "4      2013-05         2138  3473.158691        0.0        0.756690\n",
       "...        ...          ...          ...        ...             ...\n",
       "30499  2025-02         5032  2811.156250        0.0       -0.110972\n",
       "30500  2025-03         5032  3201.704834        0.0        0.138928\n",
       "30501  2025-04         5032  3667.587646       32.5        0.155662\n",
       "30502  2025-05         5032  3950.000000        0.0        0.077002\n",
       "30503  2025-06         5032  4090.000000        0.0        0.035443\n",
       "\n",
       "[30504 rows x 5 columns]"
      ]
     },
     "execution_count": 9,
     "metadata": {},
     "output_type": "execute_result"
    }
   ],
   "source": [
    "# price dataの読み込み\n",
    "# price_data = pd.read_csv('../../DATAHUB/price_data_with_dividends_from_yfinance_06262025.csv')\n",
    "price_data = pd.read_csv('../../DATAHUB/new_price_data.csv')\n",
    "price_data"
   ]
  },
  {
   "cell_type": "code",
   "execution_count": 10,
   "metadata": {},
   "outputs": [
    {
     "name": "stdout",
     "output_type": "stream",
     "text": [
      "上位20%のポートフォリオを作成中...\n",
      "ポートフォリオ銘柄数: 48\n",
      "ポートフォリオに含まれた銘柄: ['2193' '2764' '2782' '2929' '3050' '3091' '3148' '3397' '3543' '3561'\n",
      " '3563' '3926' '3994' '4344' '4478' '4479' '4751' '5032' '6071' '6952'\n",
      " '7110' '7550' '7564' '7581' '7606' '7618' '7806' '7816' '7840' '7936'\n",
      " '7974' '8008' '8022' '8153' '8167' '8252' '8273' '9022' '9338' '9424'\n",
      " '9438' '9601' '9605' '9684' '9861' '9873' '9900' '9945']\n",
      "上位25%のポートフォリオを作成中...\n",
      "ポートフォリオ銘柄数: 60\n",
      "ポートフォリオに含まれた銘柄: ['2157' '2193' '2764' '2782' '2929' '3038' '3050' '3091' '3093' '3097'\n",
      " '3148' '3397' '3543' '3561' '3563' '3926' '3994' '4344' '4478' '4479'\n",
      " '4751' '5032' '6027' '6071' '6952' '7110' '7453' '7550' '7564' '7581'\n",
      " '7606' '7618' '7806' '7816' '7840' '7936' '7974' '8008' '8022' '8153'\n",
      " '8163' '8167' '8200' '8252' '8255' '8273' '9009' '9022' '9042' '9206'\n",
      " '9338' '9424' '9438' '9601' '9605' '9684' '9861' '9873' '9900' '9945']\n",
      "上位30%のポートフォリオを作成中...\n",
      "ポートフォリオ銘柄数: 72\n",
      "ポートフォリオに含まれた銘柄: ['2157' '2193' '2651' '2764' '2782' '2929' '3038' '3046' '3050' '3091'\n",
      " '3093' '3097' '3148' '3341' '3397' '3543' '3549' '3561' '3563' '3926'\n",
      " '3994' '4344' '4477' '4478' '4479' '4751' '5032' '6027' '6071' '6952'\n",
      " '7110' '7453' '7550' '7564' '7581' '7606' '7618' '7630' '7806' '7816'\n",
      " '7840' '7936' '7974' '8008' '8022' '8028' '8153' '8163' '8167' '8200'\n",
      " '8252' '8255' '8273' '8278' '9009' '9022' '9042' '9206' '9278' '9338'\n",
      " '9424' '9438' '9601' '9603' '9605' '9684' '9832' '9861' '9873' '9900'\n",
      " '9945' '9948']\n",
      "上位100%のポートフォリオを作成中...\n",
      "ポートフォリオ銘柄数: 238\n",
      "ポートフォリオに含まれた銘柄: ['2138' '2157' '2193' '2211' '2267' '2331' '2371' '2432' '2484' '2651'\n",
      " '2659' '2670' '2678' '2681' '2685' '2695' '2726' '2730' '2742' '2752'\n",
      " '2764' '2780' '2782' '2790' '2792' '2798' '2910' '2928' '2929' '2930'\n",
      " '2931' '3028' '3038' '3046' '3048' '3050' '3053' '3064' '3087' '3088'\n",
      " '3091' '3092' '3093' '3097' '3098' '3099' '3148' '3179' '3180' '3182'\n",
      " '3191' '3197' '3222' '3333' '3341' '3349' '3359' '3382' '3387' '3391'\n",
      " '3395' '3397' '3539' '3542' '3543' '3549' '3558' '3561' '3563' '3608'\n",
      " '3632' '3635' '3659' '3660' '3665' '3765' '3926' '3938' '3962' '3994'\n",
      " '4176' '4194' '4337' '4344' '4348' '4384' '4385' '4448' '4477' '4478'\n",
      " '4479' '4661' '4680' '4686' '4689' '4704' '4751' '4755' '4839' '4911'\n",
      " '4921' '4922' '4927' '4934' '5032' '5138' '5261' '6027' '6030' '6036'\n",
      " '6071' '6082' '6096' '6098' '6191' '6630' '6724' '6952' '7082' '7110'\n",
      " '7157' '7323' '7353' '7419' '7421' '7453' '7513' '7516' '7532' '7545'\n",
      " '7550' '7564' '7581' '7606' '7616' '7618' '7630' '7649' '7780' '7806'\n",
      " '7809' '7816' '7840' '7844' '7860' '7911' '7936' '7937' '7951' '7974'\n",
      " '8008' '8016' '8022' '8028' '8111' '8114' '8153' '8160' '8163' '8167'\n",
      " '8168' '8173' '8174' '8179' '8182' '8184' '8185' '8194' '8200' '8214'\n",
      " '8218' '8219' '8227' '8237' '8242' '8244' '8252' '8255' '8267' '8273'\n",
      " '8278' '8279' '8281' '8282' '8715' '9007' '9008' '9009' '9020' '9021'\n",
      " '9022' '9039' '9042' '9201' '9202' '9206' '9278' '9338' '9412' '9416'\n",
      " '9418' '9424' '9432' '9433' '9438' '9468' '9601' '9603' '9605' '9616'\n",
      " '9627' '9684' '9697' '9708' '9722' '9733' '9735' '9766' '9783' '9792'\n",
      " '9831' '9832' '9842' '9843' '9861' '9873' '9882' '9900' '9919' '9945'\n",
      " '9948' '9956' '9962' '9974' '9983' '9984' '9989' '9997']\n"
     ]
    },
    {
     "data": {
      "text/html": [
       "<div>\n",
       "<style scoped>\n",
       "    .dataframe tbody tr th:only-of-type {\n",
       "        vertical-align: middle;\n",
       "    }\n",
       "\n",
       "    .dataframe tbody tr th {\n",
       "        vertical-align: top;\n",
       "    }\n",
       "\n",
       "    .dataframe thead th {\n",
       "        text-align: right;\n",
       "    }\n",
       "</style>\n",
       "<table border=\"1\" class=\"dataframe\">\n",
       "  <thead>\n",
       "    <tr style=\"text-align: right;\">\n",
       "      <th></th>\n",
       "      <th>top_20p</th>\n",
       "      <th>top_25p</th>\n",
       "      <th>top_30p</th>\n",
       "      <th>top_100p</th>\n",
       "    </tr>\n",
       "    <tr>\n",
       "      <th>MONTH</th>\n",
       "      <th></th>\n",
       "      <th></th>\n",
       "      <th></th>\n",
       "      <th></th>\n",
       "    </tr>\n",
       "  </thead>\n",
       "  <tbody>\n",
       "    <tr>\n",
       "      <th>2014-01</th>\n",
       "      <td>0.022949</td>\n",
       "      <td>0.015637</td>\n",
       "      <td>0.020708</td>\n",
       "      <td>-0.012956</td>\n",
       "    </tr>\n",
       "    <tr>\n",
       "      <th>2014-02</th>\n",
       "      <td>-0.019785</td>\n",
       "      <td>-0.009462</td>\n",
       "      <td>0.006306</td>\n",
       "      <td>-0.012028</td>\n",
       "    </tr>\n",
       "    <tr>\n",
       "      <th>2014-03</th>\n",
       "      <td>0.045536</td>\n",
       "      <td>0.032045</td>\n",
       "      <td>0.041426</td>\n",
       "      <td>0.028539</td>\n",
       "    </tr>\n",
       "    <tr>\n",
       "      <th>2014-04</th>\n",
       "      <td>-0.003686</td>\n",
       "      <td>-0.017108</td>\n",
       "      <td>-0.013925</td>\n",
       "      <td>-0.007002</td>\n",
       "    </tr>\n",
       "    <tr>\n",
       "      <th>2014-05</th>\n",
       "      <td>0.016617</td>\n",
       "      <td>0.017082</td>\n",
       "      <td>0.020318</td>\n",
       "      <td>0.029559</td>\n",
       "    </tr>\n",
       "    <tr>\n",
       "      <th>...</th>\n",
       "      <td>...</td>\n",
       "      <td>...</td>\n",
       "      <td>...</td>\n",
       "      <td>...</td>\n",
       "    </tr>\n",
       "    <tr>\n",
       "      <th>2025-01</th>\n",
       "      <td>0.000508</td>\n",
       "      <td>0.012228</td>\n",
       "      <td>0.013153</td>\n",
       "      <td>0.015408</td>\n",
       "    </tr>\n",
       "    <tr>\n",
       "      <th>2025-02</th>\n",
       "      <td>-0.017286</td>\n",
       "      <td>-0.018519</td>\n",
       "      <td>-0.018684</td>\n",
       "      <td>-0.020038</td>\n",
       "    </tr>\n",
       "    <tr>\n",
       "      <th>2025-03</th>\n",
       "      <td>0.024991</td>\n",
       "      <td>0.028331</td>\n",
       "      <td>0.026592</td>\n",
       "      <td>0.020226</td>\n",
       "    </tr>\n",
       "    <tr>\n",
       "      <th>2025-04</th>\n",
       "      <td>0.044302</td>\n",
       "      <td>0.048726</td>\n",
       "      <td>0.050312</td>\n",
       "      <td>0.045698</td>\n",
       "    </tr>\n",
       "    <tr>\n",
       "      <th>2025-05</th>\n",
       "      <td>0.021028</td>\n",
       "      <td>0.019424</td>\n",
       "      <td>0.012992</td>\n",
       "      <td>0.008755</td>\n",
       "    </tr>\n",
       "  </tbody>\n",
       "</table>\n",
       "<p>137 rows × 4 columns</p>\n",
       "</div>"
      ],
      "text/plain": [
       "          top_20p   top_25p   top_30p  top_100p\n",
       "MONTH                                          \n",
       "2014-01  0.022949  0.015637  0.020708 -0.012956\n",
       "2014-02 -0.019785 -0.009462  0.006306 -0.012028\n",
       "2014-03  0.045536  0.032045  0.041426  0.028539\n",
       "2014-04 -0.003686 -0.017108 -0.013925 -0.007002\n",
       "2014-05  0.016617  0.017082  0.020318  0.029559\n",
       "...           ...       ...       ...       ...\n",
       "2025-01  0.000508  0.012228  0.013153  0.015408\n",
       "2025-02 -0.017286 -0.018519 -0.018684 -0.020038\n",
       "2025-03  0.024991  0.028331  0.026592  0.020226\n",
       "2025-04  0.044302  0.048726  0.050312  0.045698\n",
       "2025-05  0.021028  0.019424  0.012992  0.008755\n",
       "\n",
       "[137 rows x 4 columns]"
      ]
     },
     "execution_count": 10,
     "metadata": {},
     "output_type": "execute_result"
    }
   ],
   "source": [
    "# percentiles = [10, 25, 40, 100]\n",
    "\n",
    "multiple_portfolios = create_multiple_portfolios(df_yoy, price_data, percentiles=[20, 25, 30, 100])\n",
    "multiple_portfolios"
   ]
  },
  {
   "cell_type": "code",
   "execution_count": 11,
   "metadata": {},
   "outputs": [
    {
     "data": {
      "image/png": "[encoded data removed]",
      "text/plain": [
       "<Figure size 1500x600 with 1 Axes>"
      ]
     },
     "metadata": {},
     "output_type": "display_data"
    }
   ],
   "source": [
    "# set date index\n",
    "multiple_portfolios.index = pd.to_datetime(multiple_portfolios.index)\n",
    "\n",
    "# 可視化\n",
    "plot_portfolio_returns(multiple_portfolios)"
   ]
  },
  {
   "cell_type": "code",
   "execution_count": 12,
   "metadata": {},
   "outputs": [
    {
     "data": {
      "image/png": "[encoded data removed]",
      "text/plain": [
       "<Figure size 1000x600 with 2 Axes>"
      ]
     },
     "metadata": {},
     "output_type": "display_data"
    }
   ],
   "source": [
    "plot_growth_rate(multiple_portfolios, 'top_20p')"
   ]
  },
  {
   "cell_type": "code",
   "execution_count": 13,
   "metadata": {},
   "outputs": [
    {
     "name": "stdout",
     "output_type": "stream",
     "text": [
      "パフォーマンス指標を計算中...\n",
      "\n",
      "=== パフォーマンス指標 ===\n",
      "          Total Return (%)  Annual Return (%)  Monthly Return (%)  \\\n",
      "top_20p            1110.45              24.41                1.91   \n",
      "top_25p            1077.14              24.11                1.89   \n",
      "top_30p             938.37              22.75                1.79   \n",
      "top_100p            322.08              13.44                1.12   \n",
      "\n",
      "          Annual Volatility (%)  Monthly Volatility (%)  Sharpe Ratio  \\\n",
      "top_20p                   13.68                    3.95          1.78   \n",
      "top_25p                   13.42                    3.87          1.80   \n",
      "top_30p                   13.19                    3.81          1.72   \n",
      "top_100p                  11.93                    3.44          1.13   \n",
      "\n",
      "          Max Drawdown (%)  Win Rate (%)  \n",
      "top_20p             -12.68         75.18  \n",
      "top_25p             -14.04         75.18  \n",
      "top_30p             -14.47         74.45  \n",
      "top_100p            -18.34         69.34  \n"
     ]
    }
   ],
   "source": [
    "# パフォーマンス指標計算\n",
    "print(\"パフォーマンス指標を計算中...\")\n",
    "performance_metrics = calculate_performance_metrics(multiple_portfolios)\n",
    "\n",
    "print(\"\\n=== パフォーマンス指標 ===\")\n",
    "print(performance_metrics.round(2))\n"
   ]
  },
  {
   "cell_type": "code",
   "execution_count": 14,
   "metadata": {},
   "outputs": [
    {
     "name": "stdout",
     "output_type": "stream",
     "text": [
      "\n",
      "=== 月次リターンの詳細統計 ===\n",
      "          月次平均リターン (%)  月次ボラティリティ (%)  最小月次リターン (%)  最大月次リターン (%)  中央値 (%)\n",
      "top_20p           1.91           3.95        -10.48         16.08     1.85\n",
      "top_25p           1.89           3.87        -10.54         16.21     1.97\n",
      "top_30p           1.79           3.81        -11.80         15.22     2.18\n",
      "top_100p          1.12           3.44        -12.06         13.68     1.62\n"
     ]
    }
   ],
   "source": [
    "# 月次統計計算\n",
    "print(\"\\n=== 月次リターンの詳細統計 ===\")\n",
    "monthly_stats = calculate_monthly_statistics(multiple_portfolios)\n",
    "print(monthly_stats.round(2))\n"
   ]
  },
  {
   "cell_type": "code",
   "execution_count": 15,
   "metadata": {},
   "outputs": [
    {
     "name": "stdout",
     "output_type": "stream",
     "text": [
      "\n",
      "=== 最終累積リターン ===\n",
      "Portfolio  Final Return\n",
      "  top_20p         12.10\n",
      "  top_25p         11.77\n",
      "  top_30p         10.38\n",
      " top_100p          4.22\n"
     ]
    }
   ],
   "source": [
    "# 最終累積リターン計算\n",
    "print(\"\\n=== 最終累積リターン ===\")\n",
    "final_returns = calculate_final_returns(multiple_portfolios)\n",
    "print(final_returns.to_string(index=False))\n"
   ]
  },
  {
   "cell_type": "code",
   "execution_count": 16,
   "metadata": {},
   "outputs": [
    {
     "name": "stdout",
     "output_type": "stream",
     "text": [
      "=== 分析結果サマリー ===\n",
      "分析期間: 2014-01-01 00:00:00 から 2025-05-01 00:00:00\n",
      "対象銘柄数: 238\n",
      "分析したポートフォリオ: ['top_20p', 'top_25p', 'top_30p', 'top_100p']\n",
      "\n",
      "最高パフォーマンス: top_20p (1110.45%)\n",
      "最低パフォーマンス: top_100p (322.08%)\n",
      "\n",
      "最高シャープレシオ: top_25p (1.80)\n",
      "最低最大ドローダウン: top_100p (-18.34%)\n",
      "\n",
      "=== パーセンタイルポートフォリオ間の比較 ===\n",
      "最高パーセンタイル: top_20p (1110.45%)\n",
      "最低パーセンタイル: top_100p (322.08%)\n"
     ]
    }
   ],
   "source": [
    "# 分析結果サマリー\n",
    "generate_analysis_summary(multiple_portfolios, df_yoy, performance_metrics)\n"
   ]
  }
 ],
 "metadata": {
  "kernelspec": {
   "display_name": "venv",
   "language": "python",
   "name": "python3"
  },
  "language_info": {
   "codemirror_mode": {
    "name": "ipython",
    "version": 3
   },
   "file_extension": ".py",
   "mimetype": "text/x-python",
   "name": "python",
   "nbconvert_exporter": "python",
   "pygments_lexer": "ipython3",
   "version": "3.13.3"
  }
 },
 "nbformat": 4,
 "nbformat_minor": 2
}
