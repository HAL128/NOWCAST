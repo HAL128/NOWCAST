{
 "cells": [
  {
   "cell_type": "code",
   "execution_count": 1,
   "metadata": {},
   "outputs": [],
   "source": [
    "from helpers import *"
   ]
  },
  {
   "cell_type": "code",
   "execution_count": 2,
   "metadata": {},
   "outputs": [
    {
     "data": {
      "text/html": [
       "<div>\n",
       "<style scoped>\n",
       "    .dataframe tbody tr th:only-of-type {\n",
       "        vertical-align: middle;\n",
       "    }\n",
       "\n",
       "    .dataframe tbody tr th {\n",
       "        vertical-align: top;\n",
       "    }\n",
       "\n",
       "    .dataframe thead th {\n",
       "        text-align: right;\n",
       "    }\n",
       "</style>\n",
       "<table border=\"1\" class=\"dataframe\">\n",
       "  <thead>\n",
       "    <tr style=\"text-align: right;\">\n",
       "      <th></th>\n",
       "      <th>DATE</th>\n",
       "      <th>TICKER</th>\n",
       "      <th>TOTAL_SALES</th>\n",
       "    </tr>\n",
       "  </thead>\n",
       "  <tbody>\n",
       "    <tr>\n",
       "      <th>0</th>\n",
       "      <td>2014-01-01</td>\n",
       "      <td>1301</td>\n",
       "      <td>21049027</td>\n",
       "    </tr>\n",
       "    <tr>\n",
       "      <th>1</th>\n",
       "      <td>2014-02-01</td>\n",
       "      <td>1301</td>\n",
       "      <td>24881772</td>\n",
       "    </tr>\n",
       "    <tr>\n",
       "      <th>2</th>\n",
       "      <td>2014-03-01</td>\n",
       "      <td>1301</td>\n",
       "      <td>33947832</td>\n",
       "    </tr>\n",
       "    <tr>\n",
       "      <th>3</th>\n",
       "      <td>2014-04-01</td>\n",
       "      <td>1301</td>\n",
       "      <td>24015019</td>\n",
       "    </tr>\n",
       "    <tr>\n",
       "      <th>4</th>\n",
       "      <td>2014-05-01</td>\n",
       "      <td>1301</td>\n",
       "      <td>24083923</td>\n",
       "    </tr>\n",
       "    <tr>\n",
       "      <th>...</th>\n",
       "      <td>...</td>\n",
       "      <td>...</td>\n",
       "      <td>...</td>\n",
       "    </tr>\n",
       "    <tr>\n",
       "      <th>38594</th>\n",
       "      <td>2025-02-01</td>\n",
       "      <td>unlisted</td>\n",
       "      <td>18841308547</td>\n",
       "    </tr>\n",
       "    <tr>\n",
       "      <th>38595</th>\n",
       "      <td>2025-03-01</td>\n",
       "      <td>unlisted</td>\n",
       "      <td>20553120960</td>\n",
       "    </tr>\n",
       "    <tr>\n",
       "      <th>38596</th>\n",
       "      <td>2025-04-01</td>\n",
       "      <td>unlisted</td>\n",
       "      <td>19575731762</td>\n",
       "    </tr>\n",
       "    <tr>\n",
       "      <th>38597</th>\n",
       "      <td>2025-05-01</td>\n",
       "      <td>unlisted</td>\n",
       "      <td>20236714694</td>\n",
       "    </tr>\n",
       "    <tr>\n",
       "      <th>38598</th>\n",
       "      <td>2025-06-01</td>\n",
       "      <td>unlisted</td>\n",
       "      <td>20122182586</td>\n",
       "    </tr>\n",
       "  </tbody>\n",
       "</table>\n",
       "<p>38599 rows × 3 columns</p>\n",
       "</div>"
      ],
      "text/plain": [
       "            DATE    TICKER  TOTAL_SALES\n",
       "0     2014-01-01      1301     21049027\n",
       "1     2014-02-01      1301     24881772\n",
       "2     2014-03-01      1301     33947832\n",
       "3     2014-04-01      1301     24015019\n",
       "4     2014-05-01      1301     24083923\n",
       "...          ...       ...          ...\n",
       "38594 2025-02-01  unlisted  18841308547\n",
       "38595 2025-03-01  unlisted  20553120960\n",
       "38596 2025-04-01  unlisted  19575731762\n",
       "38597 2025-05-01  unlisted  20236714694\n",
       "38598 2025-06-01  unlisted  20122182586\n",
       "\n",
       "[38599 rows x 3 columns]"
      ]
     },
     "execution_count": 2,
     "metadata": {},
     "output_type": "execute_result"
    }
   ],
   "source": [
    "df = pd.read_csv('../../DATAHUB/ARCHIVE/1577b043-c0fb-46e7-8eb1-cf678acda511.csv')\n",
    "df['DATE'] = pd.to_datetime(df['DATE'])\n",
    "\n",
    "df"
   ]
  },
  {
   "cell_type": "code",
   "execution_count": 3,
   "metadata": {},
   "outputs": [
    {
     "name": "stdout",
     "output_type": "stream",
     "text": [
      "original data: 38599\n",
      "filtered data: 35164\n"
     ]
    },
    {
     "data": {
      "text/html": [
       "<div>\n",
       "<style scoped>\n",
       "    .dataframe tbody tr th:only-of-type {\n",
       "        vertical-align: middle;\n",
       "    }\n",
       "\n",
       "    .dataframe tbody tr th {\n",
       "        vertical-align: top;\n",
       "    }\n",
       "\n",
       "    .dataframe thead th {\n",
       "        text-align: right;\n",
       "    }\n",
       "</style>\n",
       "<table border=\"1\" class=\"dataframe\">\n",
       "  <thead>\n",
       "    <tr style=\"text-align: right;\">\n",
       "      <th></th>\n",
       "      <th>DATE</th>\n",
       "      <th>TICKER</th>\n",
       "      <th>TOTAL_SALES</th>\n",
       "    </tr>\n",
       "  </thead>\n",
       "  <tbody>\n",
       "    <tr>\n",
       "      <th>0</th>\n",
       "      <td>2014-01-01</td>\n",
       "      <td>1301</td>\n",
       "      <td>21049027</td>\n",
       "    </tr>\n",
       "    <tr>\n",
       "      <th>1</th>\n",
       "      <td>2014-02-01</td>\n",
       "      <td>1301</td>\n",
       "      <td>24881772</td>\n",
       "    </tr>\n",
       "    <tr>\n",
       "      <th>2</th>\n",
       "      <td>2014-03-01</td>\n",
       "      <td>1301</td>\n",
       "      <td>33947832</td>\n",
       "    </tr>\n",
       "    <tr>\n",
       "      <th>3</th>\n",
       "      <td>2014-04-01</td>\n",
       "      <td>1301</td>\n",
       "      <td>24015019</td>\n",
       "    </tr>\n",
       "    <tr>\n",
       "      <th>4</th>\n",
       "      <td>2014-05-01</td>\n",
       "      <td>1301</td>\n",
       "      <td>24083923</td>\n",
       "    </tr>\n",
       "    <tr>\n",
       "      <th>...</th>\n",
       "      <td>...</td>\n",
       "      <td>...</td>\n",
       "      <td>...</td>\n",
       "    </tr>\n",
       "    <tr>\n",
       "      <th>35159</th>\n",
       "      <td>2014-11-01</td>\n",
       "      <td>9987</td>\n",
       "      <td>149</td>\n",
       "    </tr>\n",
       "    <tr>\n",
       "      <th>35160</th>\n",
       "      <td>2014-12-01</td>\n",
       "      <td>9987</td>\n",
       "      <td>2524</td>\n",
       "    </tr>\n",
       "    <tr>\n",
       "      <th>35161</th>\n",
       "      <td>2015-01-01</td>\n",
       "      <td>9987</td>\n",
       "      <td>2824</td>\n",
       "    </tr>\n",
       "    <tr>\n",
       "      <th>35162</th>\n",
       "      <td>2015-02-01</td>\n",
       "      <td>9987</td>\n",
       "      <td>1322</td>\n",
       "    </tr>\n",
       "    <tr>\n",
       "      <th>35163</th>\n",
       "      <td>2015-03-01</td>\n",
       "      <td>9987</td>\n",
       "      <td>1341</td>\n",
       "    </tr>\n",
       "  </tbody>\n",
       "</table>\n",
       "<p>35164 rows × 3 columns</p>\n",
       "</div>"
      ],
      "text/plain": [
       "            DATE TICKER  TOTAL_SALES\n",
       "0     2014-01-01   1301     21049027\n",
       "1     2014-02-01   1301     24881772\n",
       "2     2014-03-01   1301     33947832\n",
       "3     2014-04-01   1301     24015019\n",
       "4     2014-05-01   1301     24083923\n",
       "...          ...    ...          ...\n",
       "35159 2014-11-01   9987          149\n",
       "35160 2014-12-01   9987         2524\n",
       "35161 2015-01-01   9987         2824\n",
       "35162 2015-02-01   9987         1322\n",
       "35163 2015-03-01   9987         1341\n",
       "\n",
       "[35164 rows x 3 columns]"
      ]
     },
     "execution_count": 3,
     "metadata": {},
     "output_type": "execute_result"
    }
   ],
   "source": [
    "# データ読み込みとフィルタリング\n",
    "df_filtered = filter_data_cca(df)\n",
    "\n",
    "df_filtered"
   ]
  },
  {
   "cell_type": "code",
   "execution_count": 4,
   "metadata": {},
   "outputs": [
    {
     "name": "stdout",
     "output_type": "stream",
     "text": [
      "Successfully fetched data for 1301\n",
      "Successfully fetched data for 1332\n",
      "Successfully fetched data for 1333\n"
     ]
    },
    {
     "name": "stderr",
     "output_type": "stream",
     "text": [
      "$1352.T: possibly delisted; no timezone found\n"
     ]
    },
    {
     "name": "stdout",
     "output_type": "stream",
     "text": [
      "No data available for 1352\n",
      "Successfully fetched data for 1379\n",
      "Successfully fetched data for 1380\n",
      "Successfully fetched data for 1384\n",
      "Successfully fetched data for 2001\n",
      "Successfully fetched data for 2002\n",
      "Successfully fetched data for 2003\n",
      "Successfully fetched data for 2004\n",
      "Successfully fetched data for 2009\n",
      "Successfully fetched data for 2053\n"
     ]
    },
    {
     "name": "stderr",
     "output_type": "stream",
     "text": [
      "HTTP Error 404: \n",
      "$2058.T: possibly delisted; no timezone found\n"
     ]
    },
    {
     "name": "stdout",
     "output_type": "stream",
     "text": [
      "No data available for 2058\n",
      "Successfully fetched data for 2060\n",
      "Successfully fetched data for 2107\n",
      "Successfully fetched data for 2108\n",
      "Successfully fetched data for 2109\n",
      "Successfully fetched data for 2112\n",
      "Successfully fetched data for 2114\n",
      "Successfully fetched data for 2117\n",
      "Successfully fetched data for 2201\n",
      "Successfully fetched data for 2204\n",
      "Successfully fetched data for 2206\n",
      "Successfully fetched data for 2207\n",
      "Successfully fetched data for 2208\n",
      "Successfully fetched data for 2209\n",
      "Successfully fetched data for 2211\n",
      "Successfully fetched data for 2212\n",
      "Successfully fetched data for 2215\n",
      "Successfully fetched data for 2216\n",
      "Successfully fetched data for 2217\n"
     ]
    },
    {
     "name": "stderr",
     "output_type": "stream",
     "text": [
      "$2218.T: possibly delisted; no timezone found\n"
     ]
    },
    {
     "name": "stdout",
     "output_type": "stream",
     "text": [
      "No data available for 2218\n",
      "Successfully fetched data for 2220\n",
      "Successfully fetched data for 2221\n",
      "Successfully fetched data for 2222\n",
      "Successfully fetched data for 2224\n",
      "Successfully fetched data for 2226\n",
      "Successfully fetched data for 2229\n"
     ]
    },
    {
     "name": "stderr",
     "output_type": "stream",
     "text": [
      "$2230.T: possibly delisted; no timezone found\n"
     ]
    },
    {
     "name": "stdout",
     "output_type": "stream",
     "text": [
      "No data available for 2230\n",
      "Successfully fetched data for 2264\n",
      "Successfully fetched data for 2266\n",
      "Successfully fetched data for 2267\n",
      "Successfully fetched data for 2269\n",
      "Successfully fetched data for 2270\n",
      "Successfully fetched data for 2281\n",
      "Successfully fetched data for 2282\n",
      "Successfully fetched data for 2286\n",
      "Successfully fetched data for 2288\n",
      "Successfully fetched data for 2291\n",
      "Successfully fetched data for 2292\n",
      "Successfully fetched data for 2293\n",
      "Successfully fetched data for 2294\n",
      "Successfully fetched data for 2296\n",
      "Successfully fetched data for 2501\n",
      "Successfully fetched data for 2502\n",
      "Successfully fetched data for 2503\n",
      "Successfully fetched data for 2531\n",
      "Successfully fetched data for 2533\n",
      "Successfully fetched data for 2540\n"
     ]
    },
    {
     "name": "stderr",
     "output_type": "stream",
     "text": [
      "$2551.T: possibly delisted; no timezone found\n"
     ]
    },
    {
     "name": "stdout",
     "output_type": "stream",
     "text": [
      "No data available for 2551\n",
      "Successfully fetched data for 2579\n",
      "Successfully fetched data for 2586\n",
      "Successfully fetched data for 2587\n",
      "Successfully fetched data for 2590\n",
      "Successfully fetched data for 2593\n",
      "Successfully fetched data for 2594\n",
      "Successfully fetched data for 2597\n",
      "Successfully fetched data for 2602\n",
      "Successfully fetched data for 2607\n"
     ]
    },
    {
     "name": "stderr",
     "output_type": "stream",
     "text": [
      "$2608.T: possibly delisted; no timezone found\n"
     ]
    },
    {
     "name": "stdout",
     "output_type": "stream",
     "text": [
      "No data available for 2608\n",
      "Successfully fetched data for 2612\n",
      "Successfully fetched data for 2613\n",
      "Successfully fetched data for 2692\n",
      "Successfully fetched data for 2700\n",
      "Successfully fetched data for 2733\n",
      "Successfully fetched data for 2750\n",
      "Successfully fetched data for 2801\n",
      "Successfully fetched data for 2802\n",
      "Successfully fetched data for 2804\n",
      "Successfully fetched data for 2805\n",
      "Successfully fetched data for 2806\n",
      "Successfully fetched data for 2809\n",
      "Successfully fetched data for 2810\n",
      "Successfully fetched data for 2811\n",
      "Successfully fetched data for 2813\n",
      "Successfully fetched data for 2815\n",
      "Successfully fetched data for 2816\n",
      "Successfully fetched data for 2818\n",
      "Successfully fetched data for 2819\n",
      "Successfully fetched data for 2820\n",
      "Successfully fetched data for 2830\n",
      "Successfully fetched data for 2831\n",
      "Successfully fetched data for 2871\n",
      "Successfully fetched data for 2872\n",
      "Successfully fetched data for 2875\n",
      "Successfully fetched data for 2876\n",
      "Successfully fetched data for 2877\n",
      "Successfully fetched data for 2882\n",
      "Successfully fetched data for 2883\n",
      "Successfully fetched data for 2884\n",
      "Successfully fetched data for 2892\n",
      "Successfully fetched data for 2894\n",
      "Successfully fetched data for 2897\n"
     ]
    },
    {
     "name": "stderr",
     "output_type": "stream",
     "text": [
      "$2899.T: possibly delisted; no timezone found\n"
     ]
    },
    {
     "name": "stdout",
     "output_type": "stream",
     "text": [
      "No data available for 2899\n",
      "Successfully fetched data for 2901\n"
     ]
    },
    {
     "name": "stderr",
     "output_type": "stream",
     "text": [
      "$2902.T: possibly delisted; no timezone found\n"
     ]
    },
    {
     "name": "stdout",
     "output_type": "stream",
     "text": [
      "No data available for 2902\n",
      "Successfully fetched data for 2903\n",
      "Successfully fetched data for 2904\n"
     ]
    },
    {
     "name": "stderr",
     "output_type": "stream",
     "text": [
      "$2905.T: possibly delisted; no timezone found\n"
     ]
    },
    {
     "name": "stdout",
     "output_type": "stream",
     "text": [
      "No data available for 2905\n",
      "Successfully fetched data for 2907\n",
      "Successfully fetched data for 2908\n",
      "Successfully fetched data for 2911\n",
      "Successfully fetched data for 2914\n",
      "Successfully fetched data for 2915\n",
      "Successfully fetched data for 2916\n",
      "Successfully fetched data for 2917\n"
     ]
    },
    {
     "name": "stderr",
     "output_type": "stream",
     "text": [
      "$2919.T: possibly delisted; no timezone found\n"
     ]
    },
    {
     "name": "stdout",
     "output_type": "stream",
     "text": [
      "No data available for 2919\n",
      "Successfully fetched data for 2922\n",
      "Successfully fetched data for 2923\n"
     ]
    },
    {
     "name": "stderr",
     "output_type": "stream",
     "text": [
      "$2925.T: possibly delisted; no timezone found\n"
     ]
    },
    {
     "name": "stdout",
     "output_type": "stream",
     "text": [
      "No data available for 2925\n",
      "Successfully fetched data for 2927\n",
      "Successfully fetched data for 2931\n",
      "Successfully fetched data for 3002\n",
      "Successfully fetched data for 3004\n",
      "Successfully fetched data for 3038\n",
      "Successfully fetched data for 3069\n",
      "Successfully fetched data for 3103\n",
      "Successfully fetched data for 3106\n",
      "Successfully fetched data for 3110\n",
      "Successfully fetched data for 3111\n",
      "Successfully fetched data for 3172\n",
      "Successfully fetched data for 3182\n",
      "Successfully fetched data for 3306\n"
     ]
    },
    {
     "name": "stderr",
     "output_type": "stream",
     "text": [
      "$3346.T: possibly delisted; no timezone found\n"
     ]
    },
    {
     "name": "stdout",
     "output_type": "stream",
     "text": [
      "No data available for 3346\n",
      "Successfully fetched data for 3401\n",
      "Successfully fetched data for 3405\n",
      "Successfully fetched data for 3407\n",
      "Successfully fetched data for 3417\n",
      "Successfully fetched data for 3501\n",
      "Successfully fetched data for 3529\n",
      "Successfully fetched data for 3569\n",
      "Successfully fetched data for 3604\n",
      "Successfully fetched data for 3612\n",
      "Successfully fetched data for 3726\n",
      "Successfully fetched data for 3861\n",
      "Successfully fetched data for 3863\n",
      "Successfully fetched data for 3864\n",
      "Successfully fetched data for 3865\n",
      "Successfully fetched data for 3877\n",
      "Successfully fetched data for 3880\n",
      "Successfully fetched data for 3954\n",
      "Successfully fetched data for 4023\n",
      "Successfully fetched data for 4045\n",
      "Successfully fetched data for 4088\n",
      "Successfully fetched data for 4097\n",
      "Successfully fetched data for 4118\n",
      "Successfully fetched data for 4151\n",
      "Successfully fetched data for 4188\n",
      "Successfully fetched data for 4203\n",
      "Successfully fetched data for 4204\n",
      "Successfully fetched data for 4208\n",
      "Successfully fetched data for 4212\n"
     ]
    },
    {
     "name": "stderr",
     "output_type": "stream",
     "text": [
      "$4215.T: possibly delisted; no timezone found\n"
     ]
    },
    {
     "name": "stdout",
     "output_type": "stream",
     "text": [
      "No data available for 4215\n"
     ]
    },
    {
     "name": "stderr",
     "output_type": "stream",
     "text": [
      "$4217.T: possibly delisted; no timezone found\n"
     ]
    },
    {
     "name": "stdout",
     "output_type": "stream",
     "text": [
      "No data available for 4217\n",
      "Successfully fetched data for 4218\n",
      "Successfully fetched data for 4221\n",
      "Successfully fetched data for 4228\n",
      "Successfully fetched data for 4243\n",
      "Successfully fetched data for 4404\n",
      "Successfully fetched data for 4452\n",
      "Successfully fetched data for 4463\n",
      "Successfully fetched data for 4464\n",
      "Successfully fetched data for 4465\n",
      "Successfully fetched data for 4502\n",
      "Successfully fetched data for 4507\n"
     ]
    },
    {
     "name": "stderr",
     "output_type": "stream",
     "text": [
      "$4508.T: possibly delisted; no timezone found\n"
     ]
    },
    {
     "name": "stdout",
     "output_type": "stream",
     "text": [
      "No data available for 4508\n",
      "Successfully fetched data for 4512\n",
      "Successfully fetched data for 4523\n",
      "Successfully fetched data for 4524\n",
      "Successfully fetched data for 4526\n",
      "Successfully fetched data for 4527\n",
      "Successfully fetched data for 4530\n",
      "Successfully fetched data for 4534\n",
      "Successfully fetched data for 4539\n",
      "Successfully fetched data for 4540\n",
      "Successfully fetched data for 4547\n"
     ]
    },
    {
     "name": "stderr",
     "output_type": "stream",
     "text": [
      "$4550.T: possibly delisted; no timezone found\n"
     ]
    },
    {
     "name": "stdout",
     "output_type": "stream",
     "text": [
      "No data available for 4550\n",
      "Successfully fetched data for 4558\n",
      "Successfully fetched data for 4559\n",
      "Successfully fetched data for 4568\n",
      "Successfully fetched data for 4569\n",
      "Successfully fetched data for 4574\n",
      "Successfully fetched data for 4578\n"
     ]
    },
    {
     "name": "stderr",
     "output_type": "stream",
     "text": [
      "$4581.T: possibly delisted; no timezone found\n"
     ]
    },
    {
     "name": "stdout",
     "output_type": "stream",
     "text": [
      "No data available for 4581\n",
      "Successfully fetched data for 4623\n",
      "Successfully fetched data for 4631\n",
      "Successfully fetched data for 4901\n",
      "Successfully fetched data for 4911\n",
      "Successfully fetched data for 4912\n",
      "Successfully fetched data for 4917\n",
      "Successfully fetched data for 4919\n"
     ]
    },
    {
     "name": "stderr",
     "output_type": "stream",
     "text": [
      "$4921.T: possibly delisted; no timezone found\n"
     ]
    },
    {
     "name": "stdout",
     "output_type": "stream",
     "text": [
      "No data available for 4921\n",
      "Successfully fetched data for 4922\n"
     ]
    },
    {
     "name": "stderr",
     "output_type": "stream",
     "text": [
      "$4924.T: possibly delisted; no timezone found\n"
     ]
    },
    {
     "name": "stdout",
     "output_type": "stream",
     "text": [
      "No data available for 4924\n",
      "Successfully fetched data for 4925\n",
      "Successfully fetched data for 4926\n",
      "Successfully fetched data for 4927\n",
      "Successfully fetched data for 4928\n",
      "Successfully fetched data for 4951\n",
      "Successfully fetched data for 4956\n",
      "Successfully fetched data for 4967\n",
      "Successfully fetched data for 4974\n",
      "Successfully fetched data for 4985\n"
     ]
    },
    {
     "name": "stderr",
     "output_type": "stream",
     "text": [
      "$4987.T: possibly delisted; no timezone found\n"
     ]
    },
    {
     "name": "stdout",
     "output_type": "stream",
     "text": [
      "No data available for 4987\n",
      "Successfully fetched data for 4992\n",
      "Successfully fetched data for 4998\n"
     ]
    },
    {
     "name": "stderr",
     "output_type": "stream",
     "text": [
      "$4999.T: possibly delisted; no timezone found\n"
     ]
    },
    {
     "name": "stdout",
     "output_type": "stream",
     "text": [
      "No data available for 4999\n",
      "Successfully fetched data for 5108\n",
      "Successfully fetched data for 5110\n",
      "Successfully fetched data for 5122\n",
      "Successfully fetched data for 5142\n",
      "Successfully fetched data for 5194\n",
      "Successfully fetched data for 5199\n",
      "Successfully fetched data for 5464\n",
      "Successfully fetched data for 5711\n",
      "Successfully fetched data for 6309\n",
      "Successfully fetched data for 6367\n",
      "Successfully fetched data for 6448\n",
      "Successfully fetched data for 6454\n"
     ]
    },
    {
     "name": "stderr",
     "output_type": "stream",
     "text": [
      "$6502.T: possibly delisted; no timezone found\n"
     ]
    },
    {
     "name": "stdout",
     "output_type": "stream",
     "text": [
      "No data available for 6502\n",
      "Successfully fetched data for 6503\n",
      "Successfully fetched data for 6630\n",
      "Successfully fetched data for 6632\n"
     ]
    },
    {
     "name": "stderr",
     "output_type": "stream",
     "text": [
      "$6639.T: possibly delisted; no timezone found\n"
     ]
    },
    {
     "name": "stdout",
     "output_type": "stream",
     "text": [
      "No data available for 6639\n",
      "Successfully fetched data for 6645\n",
      "Successfully fetched data for 6701\n",
      "Successfully fetched data for 6702\n",
      "Successfully fetched data for 6724\n",
      "Successfully fetched data for 6750\n",
      "Successfully fetched data for 6752\n",
      "Successfully fetched data for 6753\n",
      "Successfully fetched data for 6952\n",
      "Successfully fetched data for 6955\n",
      "Successfully fetched data for 6971\n",
      "Successfully fetched data for 6988\n",
      "Successfully fetched data for 7297\n",
      "Successfully fetched data for 7427\n",
      "Successfully fetched data for 7451\n"
     ]
    },
    {
     "name": "stderr",
     "output_type": "stream",
     "text": [
      "$7648.T: possibly delisted; no timezone found\n"
     ]
    },
    {
     "name": "stdout",
     "output_type": "stream",
     "text": [
      "No data available for 7648\n",
      "Successfully fetched data for 7751\n",
      "Successfully fetched data for 7806\n",
      "Successfully fetched data for 7819\n",
      "Successfully fetched data for 7832\n",
      "Successfully fetched data for 7846\n",
      "Successfully fetched data for 7867\n",
      "Successfully fetched data for 7874\n"
     ]
    },
    {
     "name": "stderr",
     "output_type": "stream",
     "text": [
      "$7895.T: possibly delisted; no timezone found\n"
     ]
    },
    {
     "name": "stdout",
     "output_type": "stream",
     "text": [
      "No data available for 7895\n",
      "Successfully fetched data for 7947\n",
      "Successfully fetched data for 7956\n",
      "Successfully fetched data for 7958\n",
      "Successfully fetched data for 7962\n",
      "Successfully fetched data for 7965\n",
      "Successfully fetched data for 7975\n",
      "Successfully fetched data for 7976\n",
      "Successfully fetched data for 7984\n",
      "Successfully fetched data for 7987\n",
      "Successfully fetched data for 7992\n",
      "Successfully fetched data for 8030\n",
      "Successfully fetched data for 8038\n",
      "Successfully fetched data for 8041\n",
      "Successfully fetched data for 8043\n",
      "Successfully fetched data for 8079\n",
      "Successfully fetched data for 8086\n",
      "Successfully fetched data for 8091\n"
     ]
    },
    {
     "name": "stderr",
     "output_type": "stream",
     "text": [
      "$8108.T: possibly delisted; no timezone found\n"
     ]
    },
    {
     "name": "stdout",
     "output_type": "stream",
     "text": [
      "No data available for 8108\n",
      "Successfully fetched data for 8113\n"
     ]
    },
    {
     "name": "stderr",
     "output_type": "stream",
     "text": [
      "$8228.T: possibly delisted; no timezone found\n"
     ]
    },
    {
     "name": "stdout",
     "output_type": "stream",
     "text": [
      "No data available for 8228\n"
     ]
    },
    {
     "name": "stderr",
     "output_type": "stream",
     "text": [
      "$9260.T: possibly delisted; no price data found  (1mo 1900-01-01 00:00:00 -> 2025-06-01 00:00:00) (Yahoo error = \"No data found, symbol may be delisted\")\n"
     ]
    },
    {
     "name": "stdout",
     "output_type": "stream",
     "text": [
      "No data available for 9260\n",
      "Successfully fetched data for 9274\n",
      "Successfully fetched data for 9305\n",
      "Successfully fetched data for 9845\n",
      "Successfully fetched data for 9852\n",
      "Successfully fetched data for 9869\n",
      "Successfully fetched data for 9987\n"
     ]
    }
   ],
   "source": [
    "price_data, success_rate = get_stock_price_data_from_yfinance(df_filtered)"
   ]
  },
  {
   "cell_type": "code",
   "execution_count": 5,
   "metadata": {},
   "outputs": [],
   "source": [
    "price_data.to_csv('../data/price_data_for_POS.csv', index=False)"
   ]
  },
  {
   "cell_type": "code",
   "execution_count": 6,
   "metadata": {},
   "outputs": [
    {
     "data": {
      "text/plain": [
       "0.9017543859649123"
      ]
     },
     "execution_count": 6,
     "metadata": {},
     "output_type": "execute_result"
    }
   ],
   "source": [
    "success_rate"
   ]
  },
  {
   "cell_type": "code",
   "execution_count": 7,
   "metadata": {},
   "outputs": [
    {
     "name": "stdout",
     "output_type": "stream",
     "text": [
      "original data: 35164\n",
      "monthly data: 34918\n"
     ]
    },
    {
     "data": {
      "text/html": [
       "<div>\n",
       "<style scoped>\n",
       "    .dataframe tbody tr th:only-of-type {\n",
       "        vertical-align: middle;\n",
       "    }\n",
       "\n",
       "    .dataframe tbody tr th {\n",
       "        vertical-align: top;\n",
       "    }\n",
       "\n",
       "    .dataframe thead th {\n",
       "        text-align: right;\n",
       "    }\n",
       "</style>\n",
       "<table border=\"1\" class=\"dataframe\">\n",
       "  <thead>\n",
       "    <tr style=\"text-align: right;\">\n",
       "      <th></th>\n",
       "      <th>MONTH</th>\n",
       "      <th>TICKER</th>\n",
       "      <th>TOTAL_SALES</th>\n",
       "    </tr>\n",
       "  </thead>\n",
       "  <tbody>\n",
       "    <tr>\n",
       "      <th>0</th>\n",
       "      <td>2014-01</td>\n",
       "      <td>1301</td>\n",
       "      <td>21049027</td>\n",
       "    </tr>\n",
       "    <tr>\n",
       "      <th>1</th>\n",
       "      <td>2014-01</td>\n",
       "      <td>1332</td>\n",
       "      <td>166339746</td>\n",
       "    </tr>\n",
       "    <tr>\n",
       "      <th>2</th>\n",
       "      <td>2014-01</td>\n",
       "      <td>1333</td>\n",
       "      <td>186553299</td>\n",
       "    </tr>\n",
       "    <tr>\n",
       "      <th>3</th>\n",
       "      <td>2014-01</td>\n",
       "      <td>1352</td>\n",
       "      <td>877436</td>\n",
       "    </tr>\n",
       "    <tr>\n",
       "      <th>4</th>\n",
       "      <td>2014-01</td>\n",
       "      <td>1379</td>\n",
       "      <td>142479143</td>\n",
       "    </tr>\n",
       "    <tr>\n",
       "      <th>...</th>\n",
       "      <td>...</td>\n",
       "      <td>...</td>\n",
       "      <td>...</td>\n",
       "    </tr>\n",
       "    <tr>\n",
       "      <th>34913</th>\n",
       "      <td>2025-05</td>\n",
       "      <td>9260</td>\n",
       "      <td>1683132</td>\n",
       "    </tr>\n",
       "    <tr>\n",
       "      <th>34914</th>\n",
       "      <td>2025-05</td>\n",
       "      <td>9274</td>\n",
       "      <td>295897</td>\n",
       "    </tr>\n",
       "    <tr>\n",
       "      <th>34915</th>\n",
       "      <td>2025-05</td>\n",
       "      <td>9305</td>\n",
       "      <td>24617614</td>\n",
       "    </tr>\n",
       "    <tr>\n",
       "      <th>34916</th>\n",
       "      <td>2025-05</td>\n",
       "      <td>9852</td>\n",
       "      <td>4450302</td>\n",
       "    </tr>\n",
       "    <tr>\n",
       "      <th>34917</th>\n",
       "      <td>2025-05</td>\n",
       "      <td>9869</td>\n",
       "      <td>38008201</td>\n",
       "    </tr>\n",
       "  </tbody>\n",
       "</table>\n",
       "<p>34918 rows × 3 columns</p>\n",
       "</div>"
      ],
      "text/plain": [
       "         MONTH TICKER  TOTAL_SALES\n",
       "0      2014-01   1301     21049027\n",
       "1      2014-01   1332    166339746\n",
       "2      2014-01   1333    186553299\n",
       "3      2014-01   1352       877436\n",
       "4      2014-01   1379    142479143\n",
       "...        ...    ...          ...\n",
       "34913  2025-05   9260      1683132\n",
       "34914  2025-05   9274       295897\n",
       "34915  2025-05   9305     24617614\n",
       "34916  2025-05   9852      4450302\n",
       "34917  2025-05   9869     38008201\n",
       "\n",
       "[34918 rows x 3 columns]"
      ]
     },
     "execution_count": 7,
     "metadata": {},
     "output_type": "execute_result"
    }
   ],
   "source": [
    "df_monthly = daily_to_monthly(df_filtered, 'TOTAL_SALES')\n",
    "df_monthly"
   ]
  },
  {
   "cell_type": "code",
   "execution_count": 8,
   "metadata": {},
   "outputs": [
    {
     "name": "stdout",
     "output_type": "stream",
     "text": [
      "original data: 34918\n",
      "yoy data: 31559\n"
     ]
    },
    {
     "data": {
      "text/html": [
       "<div>\n",
       "<style scoped>\n",
       "    .dataframe tbody tr th:only-of-type {\n",
       "        vertical-align: middle;\n",
       "    }\n",
       "\n",
       "    .dataframe tbody tr th {\n",
       "        vertical-align: top;\n",
       "    }\n",
       "\n",
       "    .dataframe thead th {\n",
       "        text-align: right;\n",
       "    }\n",
       "</style>\n",
       "<table border=\"1\" class=\"dataframe\">\n",
       "  <thead>\n",
       "    <tr style=\"text-align: right;\">\n",
       "      <th></th>\n",
       "      <th>MONTH</th>\n",
       "      <th>TICKER</th>\n",
       "      <th>TOTAL_SALES</th>\n",
       "      <th>YOY</th>\n",
       "    </tr>\n",
       "  </thead>\n",
       "  <tbody>\n",
       "    <tr>\n",
       "      <th>3119</th>\n",
       "      <td>2015-01</td>\n",
       "      <td>1301</td>\n",
       "      <td>25254608</td>\n",
       "      <td>1.199799</td>\n",
       "    </tr>\n",
       "    <tr>\n",
       "      <th>3120</th>\n",
       "      <td>2015-01</td>\n",
       "      <td>1332</td>\n",
       "      <td>173103682</td>\n",
       "      <td>1.040663</td>\n",
       "    </tr>\n",
       "    <tr>\n",
       "      <th>3121</th>\n",
       "      <td>2015-01</td>\n",
       "      <td>1333</td>\n",
       "      <td>188857371</td>\n",
       "      <td>1.012351</td>\n",
       "    </tr>\n",
       "    <tr>\n",
       "      <th>3122</th>\n",
       "      <td>2015-01</td>\n",
       "      <td>1352</td>\n",
       "      <td>1636704</td>\n",
       "      <td>1.865326</td>\n",
       "    </tr>\n",
       "    <tr>\n",
       "      <th>3123</th>\n",
       "      <td>2015-01</td>\n",
       "      <td>1379</td>\n",
       "      <td>125180895</td>\n",
       "      <td>0.878591</td>\n",
       "    </tr>\n",
       "    <tr>\n",
       "      <th>...</th>\n",
       "      <td>...</td>\n",
       "      <td>...</td>\n",
       "      <td>...</td>\n",
       "      <td>...</td>\n",
       "    </tr>\n",
       "    <tr>\n",
       "      <th>34913</th>\n",
       "      <td>2025-05</td>\n",
       "      <td>9260</td>\n",
       "      <td>1683132</td>\n",
       "      <td>1.403733</td>\n",
       "    </tr>\n",
       "    <tr>\n",
       "      <th>34914</th>\n",
       "      <td>2025-05</td>\n",
       "      <td>9274</td>\n",
       "      <td>295897</td>\n",
       "      <td>0.845036</td>\n",
       "    </tr>\n",
       "    <tr>\n",
       "      <th>34915</th>\n",
       "      <td>2025-05</td>\n",
       "      <td>9305</td>\n",
       "      <td>24617614</td>\n",
       "      <td>1.299693</td>\n",
       "    </tr>\n",
       "    <tr>\n",
       "      <th>34916</th>\n",
       "      <td>2025-05</td>\n",
       "      <td>9852</td>\n",
       "      <td>4450302</td>\n",
       "      <td>1.003495</td>\n",
       "    </tr>\n",
       "    <tr>\n",
       "      <th>34917</th>\n",
       "      <td>2025-05</td>\n",
       "      <td>9869</td>\n",
       "      <td>38008201</td>\n",
       "      <td>1.022125</td>\n",
       "    </tr>\n",
       "  </tbody>\n",
       "</table>\n",
       "<p>31559 rows × 4 columns</p>\n",
       "</div>"
      ],
      "text/plain": [
       "         MONTH TICKER  TOTAL_SALES       YOY\n",
       "3119   2015-01   1301     25254608  1.199799\n",
       "3120   2015-01   1332    173103682  1.040663\n",
       "3121   2015-01   1333    188857371  1.012351\n",
       "3122   2015-01   1352      1636704  1.865326\n",
       "3123   2015-01   1379    125180895  0.878591\n",
       "...        ...    ...          ...       ...\n",
       "34913  2025-05   9260      1683132  1.403733\n",
       "34914  2025-05   9274       295897  0.845036\n",
       "34915  2025-05   9305     24617614  1.299693\n",
       "34916  2025-05   9852      4450302  1.003495\n",
       "34917  2025-05   9869     38008201  1.022125\n",
       "\n",
       "[31559 rows x 4 columns]"
      ]
     },
     "execution_count": 8,
     "metadata": {},
     "output_type": "execute_result"
    }
   ],
   "source": [
    "df_yoy = calculate_yoy(df_monthly, 'TOTAL_SALES')\n",
    "df_yoy"
   ]
  },
  {
   "cell_type": "code",
   "execution_count": 9,
   "metadata": {},
   "outputs": [
    {
     "data": {
      "text/html": [
       "<div>\n",
       "<style scoped>\n",
       "    .dataframe tbody tr th:only-of-type {\n",
       "        vertical-align: middle;\n",
       "    }\n",
       "\n",
       "    .dataframe tbody tr th {\n",
       "        vertical-align: top;\n",
       "    }\n",
       "\n",
       "    .dataframe thead th {\n",
       "        text-align: right;\n",
       "    }\n",
       "</style>\n",
       "<table border=\"1\" class=\"dataframe\">\n",
       "  <thead>\n",
       "    <tr style=\"text-align: right;\">\n",
       "      <th></th>\n",
       "      <th>DATE</th>\n",
       "      <th>TICKER_CODE</th>\n",
       "      <th>PRICE</th>\n",
       "      <th>DIVIDENDS</th>\n",
       "      <th>MONTHLY_RETURN</th>\n",
       "    </tr>\n",
       "  </thead>\n",
       "  <tbody>\n",
       "    <tr>\n",
       "      <th>0</th>\n",
       "      <td>2013-01</td>\n",
       "      <td>2138</td>\n",
       "      <td>923.174316</td>\n",
       "      <td>0.0</td>\n",
       "      <td>NaN</td>\n",
       "    </tr>\n",
       "    <tr>\n",
       "      <th>1</th>\n",
       "      <td>2013-02</td>\n",
       "      <td>2138</td>\n",
       "      <td>1558.038574</td>\n",
       "      <td>0.0</td>\n",
       "      <td>0.687697</td>\n",
       "    </tr>\n",
       "    <tr>\n",
       "      <th>2</th>\n",
       "      <td>2013-03</td>\n",
       "      <td>2138</td>\n",
       "      <td>1587.160767</td>\n",
       "      <td>15.0</td>\n",
       "      <td>0.028319</td>\n",
       "    </tr>\n",
       "    <tr>\n",
       "      <th>3</th>\n",
       "      <td>2013-04</td>\n",
       "      <td>2138</td>\n",
       "      <td>1977.104126</td>\n",
       "      <td>0.0</td>\n",
       "      <td>0.245686</td>\n",
       "    </tr>\n",
       "    <tr>\n",
       "      <th>4</th>\n",
       "      <td>2013-05</td>\n",
       "      <td>2138</td>\n",
       "      <td>3473.158691</td>\n",
       "      <td>0.0</td>\n",
       "      <td>0.756690</td>\n",
       "    </tr>\n",
       "    <tr>\n",
       "      <th>...</th>\n",
       "      <td>...</td>\n",
       "      <td>...</td>\n",
       "      <td>...</td>\n",
       "      <td>...</td>\n",
       "      <td>...</td>\n",
       "    </tr>\n",
       "    <tr>\n",
       "      <th>30499</th>\n",
       "      <td>2025-02</td>\n",
       "      <td>5032</td>\n",
       "      <td>2811.156250</td>\n",
       "      <td>0.0</td>\n",
       "      <td>-0.110972</td>\n",
       "    </tr>\n",
       "    <tr>\n",
       "      <th>30500</th>\n",
       "      <td>2025-03</td>\n",
       "      <td>5032</td>\n",
       "      <td>3201.704834</td>\n",
       "      <td>0.0</td>\n",
       "      <td>0.138928</td>\n",
       "    </tr>\n",
       "    <tr>\n",
       "      <th>30501</th>\n",
       "      <td>2025-04</td>\n",
       "      <td>5032</td>\n",
       "      <td>3667.587646</td>\n",
       "      <td>32.5</td>\n",
       "      <td>0.155662</td>\n",
       "    </tr>\n",
       "    <tr>\n",
       "      <th>30502</th>\n",
       "      <td>2025-05</td>\n",
       "      <td>5032</td>\n",
       "      <td>3950.000000</td>\n",
       "      <td>0.0</td>\n",
       "      <td>0.077002</td>\n",
       "    </tr>\n",
       "    <tr>\n",
       "      <th>30503</th>\n",
       "      <td>2025-06</td>\n",
       "      <td>5032</td>\n",
       "      <td>4090.000000</td>\n",
       "      <td>0.0</td>\n",
       "      <td>0.035443</td>\n",
       "    </tr>\n",
       "  </tbody>\n",
       "</table>\n",
       "<p>30504 rows × 5 columns</p>\n",
       "</div>"
      ],
      "text/plain": [
       "          DATE  TICKER_CODE        PRICE  DIVIDENDS  MONTHLY_RETURN\n",
       "0      2013-01         2138   923.174316        0.0             NaN\n",
       "1      2013-02         2138  1558.038574        0.0        0.687697\n",
       "2      2013-03         2138  1587.160767       15.0        0.028319\n",
       "3      2013-04         2138  1977.104126        0.0        0.245686\n",
       "4      2013-05         2138  3473.158691        0.0        0.756690\n",
       "...        ...          ...          ...        ...             ...\n",
       "30499  2025-02         5032  2811.156250        0.0       -0.110972\n",
       "30500  2025-03         5032  3201.704834        0.0        0.138928\n",
       "30501  2025-04         5032  3667.587646       32.5        0.155662\n",
       "30502  2025-05         5032  3950.000000        0.0        0.077002\n",
       "30503  2025-06         5032  4090.000000        0.0        0.035443\n",
       "\n",
       "[30504 rows x 5 columns]"
      ]
     },
     "execution_count": 9,
     "metadata": {},
     "output_type": "execute_result"
    }
   ],
   "source": [
    "# price dataの読み込み\n",
    "# price_data = pd.read_csv('../../DATAHUB/price_data_with_dividends_from_yfinance_06262025.csv')\n",
    "price_data = pd.read_csv('../../DATAHUB/new_price_data.csv')\n",
    "price_data"
   ]
  },
  {
   "cell_type": "code",
   "execution_count": 10,
   "metadata": {},
   "outputs": [
    {
     "name": "stdout",
     "output_type": "stream",
     "text": [
      "上位20%のポートフォリオを作成中...\n"
     ]
    },
    {
     "ename": "KeyError",
     "evalue": "'TICKER'",
     "output_type": "error",
     "traceback": [
      "\u001b[31m---------------------------------------------------------------------------\u001b[39m",
      "\u001b[31mKeyError\u001b[39m                                  Traceback (most recent call last)",
      "\u001b[36mFile \u001b[39m\u001b[32mc:\\Users\\hh080\\REPOSITORIES\\NOWCAST PROJECTS\\NOWCAST\\venv\\Lib\\site-packages\\pandas\\core\\indexes\\base.py:3812\u001b[39m, in \u001b[36mIndex.get_loc\u001b[39m\u001b[34m(self, key)\u001b[39m\n\u001b[32m   3811\u001b[39m \u001b[38;5;28;01mtry\u001b[39;00m:\n\u001b[32m-> \u001b[39m\u001b[32m3812\u001b[39m     \u001b[38;5;28;01mreturn\u001b[39;00m \u001b[38;5;28;43mself\u001b[39;49m\u001b[43m.\u001b[49m\u001b[43m_engine\u001b[49m\u001b[43m.\u001b[49m\u001b[43mget_loc\u001b[49m\u001b[43m(\u001b[49m\u001b[43mcasted_key\u001b[49m\u001b[43m)\u001b[49m\n\u001b[32m   3813\u001b[39m \u001b[38;5;28;01mexcept\u001b[39;00m \u001b[38;5;167;01mKeyError\u001b[39;00m \u001b[38;5;28;01mas\u001b[39;00m err:\n",
      "\u001b[36mFile \u001b[39m\u001b[32mpandas/_libs/index.pyx:167\u001b[39m, in \u001b[36mpandas._libs.index.IndexEngine.get_loc\u001b[39m\u001b[34m()\u001b[39m\n",
      "\u001b[36mFile \u001b[39m\u001b[32mpandas/_libs/index.pyx:196\u001b[39m, in \u001b[36mpandas._libs.index.IndexEngine.get_loc\u001b[39m\u001b[34m()\u001b[39m\n",
      "\u001b[36mFile \u001b[39m\u001b[32mpandas/_libs/hashtable_class_helper.pxi:7088\u001b[39m, in \u001b[36mpandas._libs.hashtable.PyObjectHashTable.get_item\u001b[39m\u001b[34m()\u001b[39m\n",
      "\u001b[36mFile \u001b[39m\u001b[32mpandas/_libs/hashtable_class_helper.pxi:7096\u001b[39m, in \u001b[36mpandas._libs.hashtable.PyObjectHashTable.get_item\u001b[39m\u001b[34m()\u001b[39m\n",
      "\u001b[31mKeyError\u001b[39m: 'TICKER'",
      "\nThe above exception was the direct cause of the following exception:\n",
      "\u001b[31mKeyError\u001b[39m                                  Traceback (most recent call last)",
      "\u001b[36mCell\u001b[39m\u001b[36m \u001b[39m\u001b[32mIn[10]\u001b[39m\u001b[32m, line 3\u001b[39m\n\u001b[32m      1\u001b[39m \u001b[38;5;66;03m# percentiles = [10, 25, 40, 100]\u001b[39;00m\n\u001b[32m----> \u001b[39m\u001b[32m3\u001b[39m multiple_portfolios = \u001b[43mcreate_multiple_portfolios\u001b[49m\u001b[43m(\u001b[49m\u001b[43mdf_yoy\u001b[49m\u001b[43m,\u001b[49m\u001b[43m \u001b[49m\u001b[43mprice_data\u001b[49m\u001b[43m,\u001b[49m\u001b[43m \u001b[49m\u001b[43mpercentiles\u001b[49m\u001b[43m=\u001b[49m\u001b[43m[\u001b[49m\u001b[32;43m20\u001b[39;49m\u001b[43m,\u001b[49m\u001b[43m \u001b[49m\u001b[32;43m25\u001b[39;49m\u001b[43m,\u001b[49m\u001b[43m \u001b[49m\u001b[32;43m30\u001b[39;49m\u001b[43m,\u001b[49m\u001b[43m \u001b[49m\u001b[32;43m100\u001b[39;49m\u001b[43m]\u001b[49m\u001b[43m)\u001b[49m\n\u001b[32m      4\u001b[39m multiple_portfolios\n",
      "\u001b[36mFile \u001b[39m\u001b[32mc:\\Users\\hh080\\REPOSITORIES\\NOWCAST PROJECTS\\NOWCAST\\codebase\\helpers.py:226\u001b[39m, in \u001b[36mcreate_multiple_portfolios\u001b[39m\u001b[34m(df_yoy, price_data, percentiles)\u001b[39m\n\u001b[32m    224\u001b[39m \u001b[38;5;28;01mfor\u001b[39;00m percentile \u001b[38;5;129;01min\u001b[39;00m percentiles:\n\u001b[32m    225\u001b[39m     \u001b[38;5;28mprint\u001b[39m(\u001b[33mf\u001b[39m\u001b[33m\"\u001b[39m\u001b[33m上位\u001b[39m\u001b[38;5;132;01m{\u001b[39;00mpercentile\u001b[38;5;132;01m}\u001b[39;00m\u001b[33m%のポートフォリオを作成中...\u001b[39m\u001b[33m\"\u001b[39m)\n\u001b[32m--> \u001b[39m\u001b[32m226\u001b[39m     returns = \u001b[43mcreate_percentile_portfolio\u001b[49m\u001b[43m(\u001b[49m\n\u001b[32m    227\u001b[39m \u001b[43m        \u001b[49m\u001b[43mdf_yoy\u001b[49m\u001b[43m,\u001b[49m\u001b[43m \u001b[49m\u001b[43mpercentile\u001b[49m\u001b[43m,\u001b[49m\u001b[43m \u001b[49m\u001b[43mprice_data\u001b[49m\n\u001b[32m    228\u001b[39m \u001b[43m    \u001b[49m\u001b[43m)\u001b[49m\n\u001b[32m    229\u001b[39m     \u001b[38;5;28;01mif\u001b[39;00m \u001b[38;5;129;01mnot\u001b[39;00m returns.empty:\n\u001b[32m    230\u001b[39m         portfolio_returns[\u001b[33mf\u001b[39m\u001b[33m'\u001b[39m\u001b[33mtop_\u001b[39m\u001b[38;5;132;01m{\u001b[39;00mpercentile\u001b[38;5;132;01m}\u001b[39;00m\u001b[33mp\u001b[39m\u001b[33m'\u001b[39m] = returns\n",
      "\u001b[36mFile \u001b[39m\u001b[32mc:\\Users\\hh080\\REPOSITORIES\\NOWCAST PROJECTS\\NOWCAST\\codebase\\helpers.py:173\u001b[39m, in \u001b[36mcreate_percentile_portfolio\u001b[39m\u001b[34m(df_yoy, top_percentile, price_data, col)\u001b[39m\n\u001b[32m    170\u001b[39m         price_data_copy[\u001b[33m'\u001b[39m\u001b[33mMONTH\u001b[39m\u001b[33m'\u001b[39m] = pd.to_datetime(price_data_copy[\u001b[33m'\u001b[39m\u001b[33mMONTH\u001b[39m\u001b[33m'\u001b[39m]).dt.strftime(\u001b[33m'\u001b[39m\u001b[33m%\u001b[39m\u001b[33mY-\u001b[39m\u001b[33m%\u001b[39m\u001b[33mm\u001b[39m\u001b[33m'\u001b[39m)\n\u001b[32m    172\u001b[39m portfolio_weights_df[\u001b[33m'\u001b[39m\u001b[33mTICKER\u001b[39m\u001b[33m'\u001b[39m] = portfolio_weights_df[\u001b[33m'\u001b[39m\u001b[33mTICKER\u001b[39m\u001b[33m'\u001b[39m].astype(\u001b[38;5;28mstr\u001b[39m)\n\u001b[32m--> \u001b[39m\u001b[32m173\u001b[39m price_data_copy[\u001b[33m'\u001b[39m\u001b[33mTICKER\u001b[39m\u001b[33m'\u001b[39m] = \u001b[43mprice_data_copy\u001b[49m\u001b[43m[\u001b[49m\u001b[33;43m'\u001b[39;49m\u001b[33;43mTICKER\u001b[39;49m\u001b[33;43m'\u001b[39;49m\u001b[43m]\u001b[49m.astype(\u001b[38;5;28mstr\u001b[39m)\n\u001b[32m    175\u001b[39m \u001b[38;5;66;03m# リターンマトリックス\u001b[39;00m\n\u001b[32m    176\u001b[39m returns_matrix = price_data_copy.pivot(index=\u001b[33m'\u001b[39m\u001b[33mMONTH\u001b[39m\u001b[33m'\u001b[39m, columns=\u001b[33m'\u001b[39m\u001b[33mTICKER\u001b[39m\u001b[33m'\u001b[39m, values=\u001b[33m'\u001b[39m\u001b[33mMONTHLY_RETURN\u001b[39m\u001b[33m'\u001b[39m)\n",
      "\u001b[36mFile \u001b[39m\u001b[32mc:\\Users\\hh080\\REPOSITORIES\\NOWCAST PROJECTS\\NOWCAST\\venv\\Lib\\site-packages\\pandas\\core\\frame.py:4107\u001b[39m, in \u001b[36mDataFrame.__getitem__\u001b[39m\u001b[34m(self, key)\u001b[39m\n\u001b[32m   4105\u001b[39m \u001b[38;5;28;01mif\u001b[39;00m \u001b[38;5;28mself\u001b[39m.columns.nlevels > \u001b[32m1\u001b[39m:\n\u001b[32m   4106\u001b[39m     \u001b[38;5;28;01mreturn\u001b[39;00m \u001b[38;5;28mself\u001b[39m._getitem_multilevel(key)\n\u001b[32m-> \u001b[39m\u001b[32m4107\u001b[39m indexer = \u001b[38;5;28;43mself\u001b[39;49m\u001b[43m.\u001b[49m\u001b[43mcolumns\u001b[49m\u001b[43m.\u001b[49m\u001b[43mget_loc\u001b[49m\u001b[43m(\u001b[49m\u001b[43mkey\u001b[49m\u001b[43m)\u001b[49m\n\u001b[32m   4108\u001b[39m \u001b[38;5;28;01mif\u001b[39;00m is_integer(indexer):\n\u001b[32m   4109\u001b[39m     indexer = [indexer]\n",
      "\u001b[36mFile \u001b[39m\u001b[32mc:\\Users\\hh080\\REPOSITORIES\\NOWCAST PROJECTS\\NOWCAST\\venv\\Lib\\site-packages\\pandas\\core\\indexes\\base.py:3819\u001b[39m, in \u001b[36mIndex.get_loc\u001b[39m\u001b[34m(self, key)\u001b[39m\n\u001b[32m   3814\u001b[39m     \u001b[38;5;28;01mif\u001b[39;00m \u001b[38;5;28misinstance\u001b[39m(casted_key, \u001b[38;5;28mslice\u001b[39m) \u001b[38;5;129;01mor\u001b[39;00m (\n\u001b[32m   3815\u001b[39m         \u001b[38;5;28misinstance\u001b[39m(casted_key, abc.Iterable)\n\u001b[32m   3816\u001b[39m         \u001b[38;5;129;01mand\u001b[39;00m \u001b[38;5;28many\u001b[39m(\u001b[38;5;28misinstance\u001b[39m(x, \u001b[38;5;28mslice\u001b[39m) \u001b[38;5;28;01mfor\u001b[39;00m x \u001b[38;5;129;01min\u001b[39;00m casted_key)\n\u001b[32m   3817\u001b[39m     ):\n\u001b[32m   3818\u001b[39m         \u001b[38;5;28;01mraise\u001b[39;00m InvalidIndexError(key)\n\u001b[32m-> \u001b[39m\u001b[32m3819\u001b[39m     \u001b[38;5;28;01mraise\u001b[39;00m \u001b[38;5;167;01mKeyError\u001b[39;00m(key) \u001b[38;5;28;01mfrom\u001b[39;00m\u001b[38;5;250m \u001b[39m\u001b[34;01merr\u001b[39;00m\n\u001b[32m   3820\u001b[39m \u001b[38;5;28;01mexcept\u001b[39;00m \u001b[38;5;167;01mTypeError\u001b[39;00m:\n\u001b[32m   3821\u001b[39m     \u001b[38;5;66;03m# If we have a listlike key, _check_indexing_error will raise\u001b[39;00m\n\u001b[32m   3822\u001b[39m     \u001b[38;5;66;03m#  InvalidIndexError. Otherwise we fall through and re-raise\u001b[39;00m\n\u001b[32m   3823\u001b[39m     \u001b[38;5;66;03m#  the TypeError.\u001b[39;00m\n\u001b[32m   3824\u001b[39m     \u001b[38;5;28mself\u001b[39m._check_indexing_error(key)\n",
      "\u001b[31mKeyError\u001b[39m: 'TICKER'"
     ]
    }
   ],
   "source": [
    "# percentiles = [10, 25, 40, 100]\n",
    "\n",
    "multiple_portfolios = create_multiple_portfolios(df_yoy, price_data, percentiles=[20, 25, 30, 100])\n",
    "multiple_portfolios"
   ]
  },
  {
   "cell_type": "code",
   "execution_count": null,
   "metadata": {},
   "outputs": [
    {
     "data": {
      "image/png": "[encoded data removed]",
      "text/plain": [
       "<Figure size 1500x600 with 1 Axes>"
      ]
     },
     "metadata": {},
     "output_type": "display_data"
    }
   ],
   "source": [
    "# set date index\n",
    "multiple_portfolios.index = pd.to_datetime(multiple_portfolios.index)\n",
    "\n",
    "# 可視化\n",
    "plot_portfolio_returns(multiple_portfolios)"
   ]
  },
  {
   "cell_type": "code",
   "execution_count": null,
   "metadata": {},
   "outputs": [
    {
     "data": {
      "image/png": "[encoded data removed]",
      "text/plain": [
       "<Figure size 1000x600 with 2 Axes>"
      ]
     },
     "metadata": {},
     "output_type": "display_data"
    }
   ],
   "source": [
    "plot_growth_rate(multiple_portfolios, 'top_20p')"
   ]
  },
  {
   "cell_type": "code",
   "execution_count": null,
   "metadata": {},
   "outputs": [
    {
     "name": "stdout",
     "output_type": "stream",
     "text": [
      "パフォーマンス指標を計算中...\n",
      "\n",
      "=== パフォーマンス指標 ===\n",
      "          Total Return (%)  Annual Return (%)  Monthly Return (%)  \\\n",
      "top_20p            1110.45              24.41                1.91   \n",
      "top_25p            1077.14              24.11                1.89   \n",
      "top_30p             938.37              22.75                1.79   \n",
      "top_100p            322.08              13.44                1.12   \n",
      "\n",
      "          Annual Volatility (%)  Monthly Volatility (%)  Sharpe Ratio  \\\n",
      "top_20p                   13.68                    3.95          1.78   \n",
      "top_25p                   13.42                    3.87          1.80   \n",
      "top_30p                   13.19                    3.81          1.72   \n",
      "top_100p                  11.93                    3.44          1.13   \n",
      "\n",
      "          Max Drawdown (%)  Win Rate (%)  \n",
      "top_20p             -12.68         75.18  \n",
      "top_25p             -14.04         75.18  \n",
      "top_30p             -14.47         74.45  \n",
      "top_100p            -18.34         69.34  \n"
     ]
    }
   ],
   "source": [
    "# パフォーマンス指標計算\n",
    "print(\"パフォーマンス指標を計算中...\")\n",
    "performance_metrics = calculate_performance_metrics(multiple_portfolios)\n",
    "\n",
    "print(\"\\n=== パフォーマンス指標 ===\")\n",
    "print(performance_metrics.round(2))\n"
   ]
  },
  {
   "cell_type": "code",
   "execution_count": null,
   "metadata": {},
   "outputs": [
    {
     "name": "stdout",
     "output_type": "stream",
     "text": [
      "\n",
      "=== 月次リターンの詳細統計 ===\n",
      "          月次平均リターン (%)  月次ボラティリティ (%)  最小月次リターン (%)  最大月次リターン (%)  中央値 (%)\n",
      "top_20p           1.91           3.95        -10.48         16.08     1.85\n",
      "top_25p           1.89           3.87        -10.54         16.21     1.97\n",
      "top_30p           1.79           3.81        -11.80         15.22     2.18\n",
      "top_100p          1.12           3.44        -12.06         13.68     1.62\n"
     ]
    }
   ],
   "source": [
    "# 月次統計計算\n",
    "print(\"\\n=== 月次リターンの詳細統計 ===\")\n",
    "monthly_stats = calculate_monthly_statistics(multiple_portfolios)\n",
    "print(monthly_stats.round(2))\n"
   ]
  },
  {
   "cell_type": "code",
   "execution_count": null,
   "metadata": {},
   "outputs": [
    {
     "name": "stdout",
     "output_type": "stream",
     "text": [
      "\n",
      "=== 最終累積リターン ===\n",
      "Portfolio  Final Return\n",
      "  top_20p         12.10\n",
      "  top_25p         11.77\n",
      "  top_30p         10.38\n",
      " top_100p          4.22\n"
     ]
    }
   ],
   "source": [
    "# 最終累積リターン計算\n",
    "print(\"\\n=== 最終累積リターン ===\")\n",
    "final_returns = calculate_final_returns(multiple_portfolios)\n",
    "print(final_returns.to_string(index=False))\n"
   ]
  },
  {
   "cell_type": "code",
   "execution_count": null,
   "metadata": {},
   "outputs": [
    {
     "name": "stdout",
     "output_type": "stream",
     "text": [
      "=== 分析結果サマリー ===\n",
      "分析期間: 2014-01-01 00:00:00 から 2025-05-01 00:00:00\n",
      "対象銘柄数: 238\n",
      "分析したポートフォリオ: ['top_20p', 'top_25p', 'top_30p', 'top_100p']\n",
      "\n",
      "最高パフォーマンス: top_20p (1110.45%)\n",
      "最低パフォーマンス: top_100p (322.08%)\n",
      "\n",
      "最高シャープレシオ: top_25p (1.80)\n",
      "最低最大ドローダウン: top_100p (-18.34%)\n",
      "\n",
      "=== パーセンタイルポートフォリオ間の比較 ===\n",
      "最高パーセンタイル: top_20p (1110.45%)\n",
      "最低パーセンタイル: top_100p (322.08%)\n"
     ]
    }
   ],
   "source": [
    "# 分析結果サマリー\n",
    "generate_analysis_summary(multiple_portfolios, df_yoy, performance_metrics)\n"
   ]
  }
 ],
 "metadata": {
  "kernelspec": {
   "display_name": "venv",
   "language": "python",
   "name": "python3"
  },
  "language_info": {
   "codemirror_mode": {
    "name": "ipython",
    "version": 3
   },
   "file_extension": ".py",
   "mimetype": "text/x-python",
   "name": "python",
   "nbconvert_exporter": "python",
   "pygments_lexer": "ipython3",
   "version": "3.13.3"
  }
 },
 "nbformat": 4,
 "nbformat_minor": 2
}
