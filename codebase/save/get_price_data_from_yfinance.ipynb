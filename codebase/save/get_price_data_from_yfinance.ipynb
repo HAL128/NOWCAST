{
 "cells": [
  {
   "cell_type": "code",
   "execution_count": 1,
   "metadata": {},
   "outputs": [],
   "source": [
    "from helpers import *"
   ]
  },
  {
   "cell_type": "code",
   "execution_count": 2,
   "metadata": {},
   "outputs": [
    {
     "data": {
      "text/html": [
       "<div>\n",
       "<style scoped>\n",
       "    .dataframe tbody tr th:only-of-type {\n",
       "        vertical-align: middle;\n",
       "    }\n",
       "\n",
       "    .dataframe tbody tr th {\n",
       "        vertical-align: top;\n",
       "    }\n",
       "\n",
       "    .dataframe thead th {\n",
       "        text-align: right;\n",
       "    }\n",
       "</style>\n",
       "<table border=\"1\" class=\"dataframe\">\n",
       "  <thead>\n",
       "    <tr style=\"text-align: right;\">\n",
       "      <th></th>\n",
       "      <th>DATE</th>\n",
       "      <th>TICKER</th>\n",
       "      <th>TOTAL_SALES</th>\n",
       "    </tr>\n",
       "  </thead>\n",
       "  <tbody>\n",
       "    <tr>\n",
       "      <th>0</th>\n",
       "      <td>2013-01-01</td>\n",
       "      <td>2138</td>\n",
       "      <td>985151</td>\n",
       "    </tr>\n",
       "    <tr>\n",
       "      <th>1</th>\n",
       "      <td>2013-02-01</td>\n",
       "      <td>2138</td>\n",
       "      <td>1177610</td>\n",
       "    </tr>\n",
       "    <tr>\n",
       "      <th>2</th>\n",
       "      <td>2013-03-01</td>\n",
       "      <td>2138</td>\n",
       "      <td>1852193</td>\n",
       "    </tr>\n",
       "    <tr>\n",
       "      <th>3</th>\n",
       "      <td>2013-04-01</td>\n",
       "      <td>2138</td>\n",
       "      <td>1595681</td>\n",
       "    </tr>\n",
       "    <tr>\n",
       "      <th>4</th>\n",
       "      <td>2013-05-01</td>\n",
       "      <td>2138</td>\n",
       "      <td>1997601</td>\n",
       "    </tr>\n",
       "    <tr>\n",
       "      <th>...</th>\n",
       "      <td>...</td>\n",
       "      <td>...</td>\n",
       "      <td>...</td>\n",
       "    </tr>\n",
       "    <tr>\n",
       "      <th>38970</th>\n",
       "      <td>2025-02-01</td>\n",
       "      <td>u_YDBS</td>\n",
       "      <td>1233451190</td>\n",
       "    </tr>\n",
       "    <tr>\n",
       "      <th>38971</th>\n",
       "      <td>2025-03-01</td>\n",
       "      <td>u_YDBS</td>\n",
       "      <td>1447258480</td>\n",
       "    </tr>\n",
       "    <tr>\n",
       "      <th>38972</th>\n",
       "      <td>2025-04-01</td>\n",
       "      <td>u_YDBS</td>\n",
       "      <td>1258859842</td>\n",
       "    </tr>\n",
       "    <tr>\n",
       "      <th>38973</th>\n",
       "      <td>2025-05-01</td>\n",
       "      <td>u_YDBS</td>\n",
       "      <td>1199917267</td>\n",
       "    </tr>\n",
       "    <tr>\n",
       "      <th>38974</th>\n",
       "      <td>2025-06-01</td>\n",
       "      <td>u_YDBS</td>\n",
       "      <td>367326036</td>\n",
       "    </tr>\n",
       "  </tbody>\n",
       "</table>\n",
       "<p>38975 rows × 3 columns</p>\n",
       "</div>"
      ],
      "text/plain": [
       "            DATE  TICKER  TOTAL_SALES\n",
       "0     2013-01-01    2138       985151\n",
       "1     2013-02-01    2138      1177610\n",
       "2     2013-03-01    2138      1852193\n",
       "3     2013-04-01    2138      1595681\n",
       "4     2013-05-01    2138      1997601\n",
       "...          ...     ...          ...\n",
       "38970 2025-02-01  u_YDBS   1233451190\n",
       "38971 2025-03-01  u_YDBS   1447258480\n",
       "38972 2025-04-01  u_YDBS   1258859842\n",
       "38973 2025-05-01  u_YDBS   1199917267\n",
       "38974 2025-06-01  u_YDBS    367326036\n",
       "\n",
       "[38975 rows x 3 columns]"
      ]
     },
     "execution_count": 2,
     "metadata": {},
     "output_type": "execute_result"
    }
   ],
   "source": [
    "# 任意のデータの読み込み (データ上の全銘柄のprice dataを取得)\n",
    "df = pd.read_csv('../../DATAHUB/aba922ff-cef0-4bc7-8899-00fc08a14023.csv')\n",
    "df['DATE'] = pd.to_datetime(df['DATE'])\n",
    "\n",
    "df"
   ]
  },
  {
   "cell_type": "code",
   "execution_count": 3,
   "metadata": {},
   "outputs": [
    {
     "name": "stdout",
     "output_type": "stream",
     "text": [
      "original data: 38975\n",
      "filtered data: 35249\n"
     ]
    },
    {
     "data": {
      "text/html": [
       "<div>\n",
       "<style scoped>\n",
       "    .dataframe tbody tr th:only-of-type {\n",
       "        vertical-align: middle;\n",
       "    }\n",
       "\n",
       "    .dataframe tbody tr th {\n",
       "        vertical-align: top;\n",
       "    }\n",
       "\n",
       "    .dataframe thead th {\n",
       "        text-align: right;\n",
       "    }\n",
       "</style>\n",
       "<table border=\"1\" class=\"dataframe\">\n",
       "  <thead>\n",
       "    <tr style=\"text-align: right;\">\n",
       "      <th></th>\n",
       "      <th>DATE</th>\n",
       "      <th>TICKER</th>\n",
       "      <th>TOTAL_SALES</th>\n",
       "    </tr>\n",
       "  </thead>\n",
       "  <tbody>\n",
       "    <tr>\n",
       "      <th>0</th>\n",
       "      <td>2013-01-01</td>\n",
       "      <td>2138</td>\n",
       "      <td>985151</td>\n",
       "    </tr>\n",
       "    <tr>\n",
       "      <th>1</th>\n",
       "      <td>2013-02-01</td>\n",
       "      <td>2138</td>\n",
       "      <td>1177610</td>\n",
       "    </tr>\n",
       "    <tr>\n",
       "      <th>2</th>\n",
       "      <td>2013-03-01</td>\n",
       "      <td>2138</td>\n",
       "      <td>1852193</td>\n",
       "    </tr>\n",
       "    <tr>\n",
       "      <th>3</th>\n",
       "      <td>2013-04-01</td>\n",
       "      <td>2138</td>\n",
       "      <td>1595681</td>\n",
       "    </tr>\n",
       "    <tr>\n",
       "      <th>4</th>\n",
       "      <td>2013-05-01</td>\n",
       "      <td>2138</td>\n",
       "      <td>1997601</td>\n",
       "    </tr>\n",
       "    <tr>\n",
       "      <th>...</th>\n",
       "      <td>...</td>\n",
       "      <td>...</td>\n",
       "      <td>...</td>\n",
       "    </tr>\n",
       "    <tr>\n",
       "      <th>35264</th>\n",
       "      <td>2025-02-01</td>\n",
       "      <td>9997</td>\n",
       "      <td>59219415</td>\n",
       "    </tr>\n",
       "    <tr>\n",
       "      <th>35265</th>\n",
       "      <td>2025-03-01</td>\n",
       "      <td>9997</td>\n",
       "      <td>78720890</td>\n",
       "    </tr>\n",
       "    <tr>\n",
       "      <th>35266</th>\n",
       "      <td>2025-04-01</td>\n",
       "      <td>9997</td>\n",
       "      <td>67881188</td>\n",
       "    </tr>\n",
       "    <tr>\n",
       "      <th>35267</th>\n",
       "      <td>2025-05-01</td>\n",
       "      <td>9997</td>\n",
       "      <td>67086649</td>\n",
       "    </tr>\n",
       "    <tr>\n",
       "      <th>35268</th>\n",
       "      <td>2025-06-01</td>\n",
       "      <td>9997</td>\n",
       "      <td>15922844</td>\n",
       "    </tr>\n",
       "  </tbody>\n",
       "</table>\n",
       "<p>35249 rows × 3 columns</p>\n",
       "</div>"
      ],
      "text/plain": [
       "            DATE TICKER  TOTAL_SALES\n",
       "0     2013-01-01   2138       985151\n",
       "1     2013-02-01   2138      1177610\n",
       "2     2013-03-01   2138      1852193\n",
       "3     2013-04-01   2138      1595681\n",
       "4     2013-05-01   2138      1997601\n",
       "...          ...    ...          ...\n",
       "35264 2025-02-01   9997     59219415\n",
       "35265 2025-03-01   9997     78720890\n",
       "35266 2025-04-01   9997     67881188\n",
       "35267 2025-05-01   9997     67086649\n",
       "35268 2025-06-01   9997     15922844\n",
       "\n",
       "[35249 rows x 3 columns]"
      ]
     },
     "execution_count": 3,
     "metadata": {},
     "output_type": "execute_result"
    }
   ],
   "source": [
    "# データ読み込みとフィルタリング\n",
    "df_filtered = filter_data_cca(df)\n",
    "\n",
    "df_filtered"
   ]
  },
  {
   "cell_type": "code",
   "execution_count": null,
   "metadata": {},
   "outputs": [
    {
     "name": "stdout",
     "output_type": "stream",
     "text": [
      "Successfully fetched data for 2138\n",
      "Successfully fetched data for 2157\n",
      "Successfully fetched data for 2193\n",
      "Successfully fetched data for 2211\n",
      "Successfully fetched data for 2267\n",
      "Successfully fetched data for 2331\n",
      "Successfully fetched data for 2371\n",
      "Successfully fetched data for 2432\n",
      "Successfully fetched data for 2484\n"
     ]
    },
    {
     "name": "stderr",
     "output_type": "stream",
     "text": [
      "$2651.T: possibly delisted; no timezone found\n"
     ]
    },
    {
     "name": "stdout",
     "output_type": "stream",
     "text": [
      "No data available for 2651\n",
      "Successfully fetched data for 2659\n",
      "Successfully fetched data for 2670\n",
      "Successfully fetched data for 2678\n",
      "Successfully fetched data for 2681\n",
      "Successfully fetched data for 2685\n",
      "Successfully fetched data for 2695\n",
      "Successfully fetched data for 2726\n",
      "Successfully fetched data for 2730\n",
      "Successfully fetched data for 2742\n",
      "Successfully fetched data for 2752\n",
      "Successfully fetched data for 2764\n",
      "Successfully fetched data for 2780\n",
      "Successfully fetched data for 2782\n",
      "Successfully fetched data for 2790\n",
      "Successfully fetched data for 2792\n",
      "Successfully fetched data for 2798\n",
      "Successfully fetched data for 2910\n"
     ]
    },
    {
     "name": "stderr",
     "output_type": "stream",
     "text": [
      "HTTP Error 404: \n",
      "$2928.T: possibly delisted; no timezone found\n"
     ]
    },
    {
     "name": "stdout",
     "output_type": "stream",
     "text": [
      "No data available for 2928\n",
      "Successfully fetched data for 2929\n",
      "Successfully fetched data for 2930\n",
      "Successfully fetched data for 2931\n",
      "Successfully fetched data for 3028\n",
      "Successfully fetched data for 3038\n",
      "Successfully fetched data for 3046\n",
      "Successfully fetched data for 3048\n",
      "Successfully fetched data for 3050\n",
      "Successfully fetched data for 3053\n",
      "Successfully fetched data for 3064\n",
      "Successfully fetched data for 3087\n",
      "Successfully fetched data for 3088\n",
      "Successfully fetched data for 3091\n",
      "Successfully fetched data for 3092\n",
      "Successfully fetched data for 3093\n",
      "Successfully fetched data for 3097\n"
     ]
    },
    {
     "name": "stderr",
     "output_type": "stream",
     "text": [
      "$3098.T: possibly delisted; no timezone found\n"
     ]
    },
    {
     "name": "stdout",
     "output_type": "stream",
     "text": [
      "No data available for 3098\n",
      "Successfully fetched data for 3099\n",
      "Successfully fetched data for 3148\n",
      "Successfully fetched data for 3179\n",
      "Successfully fetched data for 3180\n",
      "Successfully fetched data for 3182\n",
      "Successfully fetched data for 3191\n",
      "Successfully fetched data for 3197\n",
      "Successfully fetched data for 3222\n",
      "Successfully fetched data for 3333\n",
      "Successfully fetched data for 3341\n",
      "Successfully fetched data for 3349\n",
      "Successfully fetched data for 3359\n",
      "Successfully fetched data for 3382\n",
      "Successfully fetched data for 3387\n",
      "Successfully fetched data for 3391\n",
      "Successfully fetched data for 3395\n",
      "Successfully fetched data for 3397\n",
      "Successfully fetched data for 3539\n",
      "Successfully fetched data for 3542\n",
      "Successfully fetched data for 3543\n",
      "Successfully fetched data for 3549\n",
      "Successfully fetched data for 3558\n",
      "Successfully fetched data for 3561\n",
      "Successfully fetched data for 3563\n",
      "Successfully fetched data for 3608\n",
      "Successfully fetched data for 3632\n",
      "Successfully fetched data for 3635\n",
      "Successfully fetched data for 3659\n",
      "Successfully fetched data for 3660\n",
      "Successfully fetched data for 3665\n",
      "Successfully fetched data for 3765\n",
      "Successfully fetched data for 3926\n"
     ]
    },
    {
     "name": "stderr",
     "output_type": "stream",
     "text": [
      "$3938.T: possibly delisted; no timezone found\n"
     ]
    },
    {
     "name": "stdout",
     "output_type": "stream",
     "text": [
      "No data available for 3938\n",
      "Successfully fetched data for 3962\n",
      "Successfully fetched data for 3994\n",
      "Successfully fetched data for 4176\n",
      "Successfully fetched data for 4194\n",
      "Successfully fetched data for 4337\n",
      "Successfully fetched data for 4344\n"
     ]
    },
    {
     "name": "stderr",
     "output_type": "stream",
     "text": [
      "$4348.T: possibly delisted; no timezone found\n"
     ]
    },
    {
     "name": "stdout",
     "output_type": "stream",
     "text": [
      "No data available for 4348\n",
      "Successfully fetched data for 4384\n",
      "Successfully fetched data for 4385\n",
      "Successfully fetched data for 4448\n",
      "Successfully fetched data for 4477\n",
      "Successfully fetched data for 4478\n",
      "Successfully fetched data for 4479\n",
      "Successfully fetched data for 4661\n",
      "Successfully fetched data for 4680\n",
      "Successfully fetched data for 4686\n",
      "Successfully fetched data for 4689\n",
      "Successfully fetched data for 4704\n",
      "Successfully fetched data for 4751\n",
      "Successfully fetched data for 4755\n",
      "Successfully fetched data for 4839\n",
      "Successfully fetched data for 4911\n"
     ]
    },
    {
     "name": "stderr",
     "output_type": "stream",
     "text": [
      "$4921.T: possibly delisted; no timezone found\n"
     ]
    },
    {
     "name": "stdout",
     "output_type": "stream",
     "text": [
      "No data available for 4921\n",
      "Successfully fetched data for 4922\n",
      "Successfully fetched data for 4927\n",
      "Successfully fetched data for 4934\n",
      "Successfully fetched data for 5032\n",
      "Successfully fetched data for 5138\n",
      "Successfully fetched data for 5261\n",
      "Successfully fetched data for 6027\n",
      "Successfully fetched data for 6030\n",
      "Successfully fetched data for 6036\n",
      "Successfully fetched data for 6071\n",
      "Successfully fetched data for 6082\n",
      "Successfully fetched data for 6096\n",
      "Successfully fetched data for 6098\n",
      "Successfully fetched data for 6191\n",
      "Successfully fetched data for 6630\n",
      "Successfully fetched data for 6724\n",
      "Successfully fetched data for 6952\n",
      "Successfully fetched data for 7082\n",
      "Successfully fetched data for 7110\n",
      "Successfully fetched data for 7157\n"
     ]
    },
    {
     "name": "stderr",
     "output_type": "stream",
     "text": [
      "$7323.T: possibly delisted; no timezone found\n"
     ]
    },
    {
     "name": "stdout",
     "output_type": "stream",
     "text": [
      "No data available for 7323\n",
      "Successfully fetched data for 7353\n",
      "Successfully fetched data for 7419\n",
      "Successfully fetched data for 7421\n",
      "Successfully fetched data for 7453\n",
      "Successfully fetched data for 7513\n",
      "Successfully fetched data for 7516\n",
      "Successfully fetched data for 7532\n",
      "Successfully fetched data for 7545\n",
      "Successfully fetched data for 7550\n",
      "Successfully fetched data for 7564\n",
      "Successfully fetched data for 7581\n",
      "Successfully fetched data for 7606\n",
      "Successfully fetched data for 7616\n"
     ]
    },
    {
     "name": "stderr",
     "output_type": "stream",
     "text": [
      "$7618.T: possibly delisted; no timezone found\n"
     ]
    },
    {
     "name": "stdout",
     "output_type": "stream",
     "text": [
      "No data available for 7618\n",
      "Successfully fetched data for 7630\n",
      "Successfully fetched data for 7649\n",
      "Successfully fetched data for 7780\n",
      "Successfully fetched data for 7806\n",
      "Successfully fetched data for 7809\n"
     ]
    },
    {
     "name": "stderr",
     "output_type": "stream",
     "text": [
      "$7816.T: possibly delisted; no timezone found\n"
     ]
    },
    {
     "name": "stdout",
     "output_type": "stream",
     "text": [
      "No data available for 7816\n",
      "Successfully fetched data for 7840\n",
      "Successfully fetched data for 7844\n",
      "Successfully fetched data for 7860\n",
      "Successfully fetched data for 7911\n",
      "Successfully fetched data for 7936\n",
      "Successfully fetched data for 7937\n",
      "Successfully fetched data for 7951\n",
      "Successfully fetched data for 7974\n",
      "Successfully fetched data for 8008\n",
      "Successfully fetched data for 8016\n",
      "Successfully fetched data for 8022\n"
     ]
    },
    {
     "name": "stderr",
     "output_type": "stream",
     "text": [
      "$8028.T: possibly delisted; no timezone found\n"
     ]
    },
    {
     "name": "stdout",
     "output_type": "stream",
     "text": [
      "No data available for 8028\n",
      "Successfully fetched data for 8111\n"
     ]
    }
   ],
   "source": [
    "price_data, success_rate = get_stock_price_data_from_yfinance(df_filtered)"
   ]
  },
  {
   "cell_type": "code",
   "execution_count": null,
   "metadata": {},
   "outputs": [],
   "source": [
    "# price_data.to_csv('../data/price_data_for_POS.csv', index=False)"
   ]
  },
  {
   "cell_type": "code",
   "execution_count": null,
   "metadata": {},
   "outputs": [
    {
     "data": {
      "text/plain": [
       "0.9017543859649123"
      ]
     },
     "execution_count": 6,
     "metadata": {},
     "output_type": "execute_result"
    }
   ],
   "source": [
    "success_rate"
   ]
  }
 ],
 "metadata": {
  "kernelspec": {
   "display_name": "venv",
   "language": "python",
   "name": "python3"
  },
  "language_info": {
   "codemirror_mode": {
    "name": "ipython",
    "version": 3
   },
   "file_extension": ".py",
   "mimetype": "text/x-python",
   "name": "python",
   "nbconvert_exporter": "python",
   "pygments_lexer": "ipython3",
   "version": "3.13.3"
  }
 },
 "nbformat": 4,
 "nbformat_minor": 2
}
